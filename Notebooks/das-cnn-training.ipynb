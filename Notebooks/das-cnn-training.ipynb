{
 "cells": [
  {
   "cell_type": "code",
   "execution_count": 117,
   "metadata": {
    "_cell_guid": "b1076dfc-b9ad-4769-8c92-a6c4dae69d19",
    "_uuid": "8f2839f25d086af736a60e9eeb907d3b93b6e0e5",
    "execution": {
     "iopub.execute_input": "2025-05-11T17:34:16.869946Z",
     "iopub.status.busy": "2025-05-11T17:34:16.869376Z",
     "iopub.status.idle": "2025-05-11T17:34:16.873517Z",
     "shell.execute_reply": "2025-05-11T17:34:16.872809Z",
     "shell.execute_reply.started": "2025-05-11T17:34:16.869922Z"
    }
   },
   "outputs": [],
   "source": [
    "import torch\n",
    "import numpy as np # linear algebra\n",
    "import pandas as pd # data processing, CSV file I/O (e.g. pd.read_csv)\n",
    "import torch.nn as nn\n",
    "import torch.nn.functional as F"
   ]
  },
  {
   "cell_type": "code",
   "execution_count": 118,
   "metadata": {
    "execution": {
     "iopub.execute_input": "2025-05-11T17:34:16.876380Z",
     "iopub.status.busy": "2025-05-11T17:34:16.875878Z",
     "iopub.status.idle": "2025-05-11T17:34:16.890316Z",
     "shell.execute_reply": "2025-05-11T17:34:16.889726Z",
     "shell.execute_reply.started": "2025-05-11T17:34:16.876362Z"
    }
   },
   "outputs": [],
   "source": [
    "class Dataset(torch.utils.data.Dataset):\n",
    "    def __init__(self, imgs, counts, labels, ids, transforms = lambda x: x):\n",
    "        self.imgs = imgs\n",
    "        self.labels = labels\n",
    "        self.counts = counts\n",
    "        self.labels = labels\n",
    "        self.transforms = transforms\n",
    "        self.ids = ids\n",
    "\n",
    "    def __getitem__(self, i, return_id = False):\n",
    "        y = self.labels[i]\n",
    "        if return_id:\n",
    "            return (self.transforms(self.imgs[i].unsqueeze(0)), y, self.counts[i], self.ids[i])\n",
    "        return (self.transforms(self.imgs[i].unsqueeze(0)), y, self.counts[i])\n",
    "\n",
    "    def __len__(self):\n",
    "        return len(self.imgs)"
   ]
  },
  {
   "cell_type": "code",
   "execution_count": 119,
   "metadata": {
    "execution": {
     "iopub.execute_input": "2025-05-11T17:34:16.892096Z",
     "iopub.status.busy": "2025-05-11T17:34:16.891478Z",
     "iopub.status.idle": "2025-05-11T17:34:16.909772Z",
     "shell.execute_reply": "2025-05-11T17:34:16.909082Z",
     "shell.execute_reply.started": "2025-05-11T17:34:16.892078Z"
    }
   },
   "outputs": [],
   "source": [
    "class SimpleVehicleNet(nn.Module):\n",
    "    def __init__(self, num_bins=5, num_count_classes = 7):  # num_bins = number of vehicle count buckets\n",
    "        super(SimpleVehicleNet, self).__init__()\n",
    "        self.num_count_classes = num_count_classes\n",
    "        # Input: [B, 1, 585, 130]\n",
    "        self.backbone = nn.Sequential(\n",
    "            nn.Conv2d(1, 16, kernel_size=3, stride=1, padding=1),  # [B, 16, 585, 130]\n",
    "            nn.BatchNorm2d(16),\n",
    "            nn.ReLU(),\n",
    "            nn.MaxPool2d(2),  # [B, 16, 292, 65]\n",
    "\n",
    "            nn.Conv2d(16, 32, kernel_size=3, stride=1, padding=1),  # [B, 32, 292, 65]\n",
    "            nn.BatchNorm2d(32),\n",
    "            nn.ReLU(),\n",
    "            nn.MaxPool2d(2),  # [B, 32, 146, 32]\n",
    "\n",
    "            nn.Conv2d(32, 64, kernel_size=3, stride=1, padding=1),  # [B, 64, 146, 32]\n",
    "            nn.BatchNorm2d(64),\n",
    "            nn.ReLU(),\n",
    "            nn.AdaptiveAvgPool2d((1, 1)),  # [B, 64, 1, 1]\n",
    "        )\n",
    "\n",
    "        self.flatten = nn.Flatten()  # → [B, 64]\n",
    "\n",
    "        # Regression head (predict scalar count)\n",
    "        self.count_head = nn.Sequential(\n",
    "            nn.Linear(64, 32),\n",
    "            nn.ReLU(),\n",
    "            nn.Linear(32, num_count_classes)\n",
    "        )\n",
    "\n",
    "        # Distribution head (predict vehicle count histogram)\n",
    "        self.dist_head = nn.Sequential(\n",
    "            nn.Linear(64, 64),\n",
    "            nn.ReLU(),\n",
    "            nn.Linear(64, num_bins)  # Output: raw logits → apply log_softmax\n",
    "        )\n",
    "        self.mse = nn.MSELoss()\n",
    "        self.mae = nn.L1Loss()\n",
    "        self.cross_entropy = nn.CrossEntropyLoss()\n",
    "        self.kl = nn.KLDivLoss(reduction = \"batchmean\")\n",
    "        self.lambda_count = 10\n",
    "        self.lambda_kl = 1\n",
    "        self.lambda_mse = 1\n",
    "        self.freq = torch.Tensor([3.8822e-02, 5.4998e-03, 8.6703e-01, 4.8528e-03, 0.0000e+00, 0.0000e+00,\n",
    "        3.2352e-04, 8.3468e-02])\n",
    "\n",
    "    def masked_mse(self, y_pred, y_true):\n",
    "        # Create a mask where target is non-zero\n",
    "        mask = (y_true != 0).float()\n",
    "        \n",
    "        # Compute squared error only where mask == 1\n",
    "        loss = (mask * (y_pred - y_true) ** 2)\n",
    "        \n",
    "        # Avoid division by zero: normalize by number of non-zero elements\n",
    "        return loss.sum() / (mask.sum() + 1e-8)\n",
    "\n",
    "    def weighted_mse(self, y_pred, y_true):\n",
    "        weights = 1.0 / (self.freq + 1e-6)\n",
    "        weights = weights / weights.sum()\n",
    "        weights = weights.to(y_pred.device)\n",
    "        loss = weights * (y_pred - y_true) ** 2\n",
    "        return loss.mean()\n",
    "    \n",
    "    def forward(self, x):\n",
    "        x = self.backbone(x)\n",
    "        x = self.flatten(x)\n",
    "        count = self.count_head(x)                      # shape: [B, 1]\n",
    "        dist_logits = self.dist_head(x)                # shape: [B, num_bins]\n",
    "        dist_output = F.softmax(dist_logits, dim=1)\n",
    "        return count, dist_output\n",
    "\n",
    "    def loss(self, count_out, hist_out, count_label, hist_label):\n",
    "        label = F.one_hot(count_label, num_classes = self.num_count_classes).float()\n",
    "        #print(count_out.shape, label.shape)\n",
    "        #print(count_out.dtype, label.dtype)\n",
    "        count_loss = self.cross_entropy(count_out, label)\n",
    "        row_sums = hist_label.sum(dim=1, keepdim=True)\n",
    "        normalized = hist_label / row_sums\n",
    "        #hist_loss = self.weighted_mse(hist_out, hist_label)\n",
    "        hist_loss = self.cross_entropy(hist_out, normalized)\n",
    "        return self.lambda_count * count_loss + hist_loss"
   ]
  },
  {
   "cell_type": "code",
   "execution_count": 120,
   "metadata": {
    "execution": {
     "iopub.execute_input": "2025-05-11T17:34:16.911432Z",
     "iopub.status.busy": "2025-05-11T17:34:16.910775Z",
     "iopub.status.idle": "2025-05-11T17:34:16.925860Z",
     "shell.execute_reply": "2025-05-11T17:34:16.925224Z",
     "shell.execute_reply.started": "2025-05-11T17:34:16.911407Z"
    }
   },
   "outputs": [],
   "source": [
    "class CountCNN(nn.Module):\n",
    "    def __init__(self, classes = 7):  # num_bins = number of vehicle count buckets\n",
    "        super(CountCNN, self).__init__()\n",
    "\n",
    "        # Input: [B, 1, 585, 130]\n",
    "        self.backbone = nn.Sequential(\n",
    "            nn.Conv2d(1, 16, kernel_size=3, stride=1, padding=1),  # [B, 16, 585, 130]\n",
    "            nn.BatchNorm2d(16),\n",
    "            nn.ReLU(),\n",
    "            nn.MaxPool2d(2),  # [B, 16, 292, 65]\n",
    "\n",
    "            nn.Conv2d(16, 32, kernel_size=3, stride=1, padding=1),  # [B, 32, 292, 65]\n",
    "            nn.BatchNorm2d(32),\n",
    "            nn.ReLU(),\n",
    "            nn.MaxPool2d(2),  # [B, 32, 146, 32]\n",
    "\n",
    "            nn.Conv2d(32, 64, kernel_size=3, stride=1, padding=1),  # [B, 64, 146, 32]\n",
    "            nn.BatchNorm2d(64),\n",
    "            nn.ReLU(),\n",
    "            nn.AdaptiveAvgPool2d((1, 1)),  # [B, 64, 1, 1]\n",
    "        )\n",
    "\n",
    "        self.flatten = nn.Flatten()  # → [B, 64]\n",
    "\n",
    "        # Regression head (predict scalar count)\n",
    "        self.count_head = nn.Sequential(\n",
    "            nn.Linear(64, 32),\n",
    "            nn.ReLU(),\n",
    "            nn.Linear(32, classes)\n",
    "        )\n",
    "        \n",
    "        self.mse = nn.MSELoss()\n",
    "        self.mae = nn.L1Loss()\n",
    "        self.cross_entropy = nn.CrossEntropyLoss()\n",
    "        self.freq = torch.Tensor([3.8822e-02, 5.4998e-03, 8.6703e-01, 4.8528e-03, 0.0000e+00, 0.0000e+00,\n",
    "        3.2352e-04, 8.3468e-02])\n",
    "        self.classes = classes\n",
    "        \n",
    "    def forward(self, x):\n",
    "        x = self.backbone(x)\n",
    "        x = self.flatten(x)\n",
    "        count = self.count_head(x)                      # shape: [B, 1]\n",
    "        return count\n",
    "\n",
    "    def loss(self, count_out, count_label):\n",
    "        label = F.one_hot(count_label, num_classes = self.classes).float()\n",
    "        count_loss = self.cross_entropy(count_out, count_label)\n",
    "        return count_loss"
   ]
  },
  {
   "cell_type": "code",
   "execution_count": 121,
   "metadata": {
    "execution": {
     "iopub.execute_input": "2025-05-11T17:34:16.930893Z",
     "iopub.status.busy": "2025-05-11T17:34:16.930658Z",
     "iopub.status.idle": "2025-05-11T17:34:16.945210Z",
     "shell.execute_reply": "2025-05-11T17:34:16.944501Z",
     "shell.execute_reply.started": "2025-05-11T17:34:16.930878Z"
    }
   },
   "outputs": [],
   "source": [
    "class Block(nn.Module):\n",
    "    \n",
    "    def __init__(self, in_channels, out_channels, identity_downsample=None, stride=1):\n",
    "        super(Block, self).__init__()\n",
    "        self.conv1 = nn.Conv2d(in_channels, out_channels, kernel_size=3, stride=stride, padding=1)\n",
    "        self.bn1 = nn.BatchNorm2d(out_channels)\n",
    "        self.conv2 = nn.Conv2d(out_channels, out_channels, kernel_size=3, stride=1, padding=1)\n",
    "        self.bn2 = nn.BatchNorm2d(out_channels)\n",
    "        self.relu = nn.ReLU()\n",
    "        self.identity_downsample = identity_downsample\n",
    "        \n",
    "    def forward(self, x):\n",
    "        identity = x\n",
    "        x = self.conv1(x)\n",
    "        x = self.bn1(x)\n",
    "        x = self.relu(x)\n",
    "        x = self.conv2(x)\n",
    "        x = self.bn2(x)\n",
    "        if self.identity_downsample is not None:\n",
    "            identity = self.identity_downsample(identity)\n",
    "        x += identity\n",
    "        x = self.relu(x)\n",
    "        return x\n",
    "        \n",
    "class Resnet18(nn.Module):\n",
    "    \n",
    "    def __init__(self, image_channels = 1):\n",
    "        \n",
    "        super(Resnet18, self).__init__()\n",
    "        self.in_channels = 64\n",
    "        self.conv1 = nn.Conv2d(image_channels, 64, kernel_size=7, stride=2, padding=3)\n",
    "        self.bn1 = nn.BatchNorm2d(64)\n",
    "        self.relu = nn.ReLU()\n",
    "        self.maxpool = nn.MaxPool2d(kernel_size=3, stride=2, padding=1)\n",
    "        \n",
    "        #resnet layers\n",
    "        self.layer1 = self.make_layer(64, 64, stride=1)\n",
    "        self.layer2 = self.make_layer(64, 128, stride=2)\n",
    "        self.layer3 = self.make_layer(128, 256, stride=2)\n",
    "        self.layer4 = self.make_layer(256, 512, stride=2)\n",
    "        \n",
    "        self.avgpool = nn.AdaptiveAvgPool2d((1, 1))\n",
    "        \n",
    "    def make_layer(self, in_channels, out_channels, stride):\n",
    "        \n",
    "        identity_downsample = None\n",
    "        if stride != 1:\n",
    "            identity_downsample = self.identity_downsample(in_channels, out_channels)\n",
    "            \n",
    "        return nn.Sequential(\n",
    "            Block(in_channels, out_channels, identity_downsample=identity_downsample, stride=stride), \n",
    "            Block(out_channels, out_channels)\n",
    "        )\n",
    "        \n",
    "    def forward(self, x):\n",
    "        \n",
    "        x = self.conv1(x)\n",
    "        x = self.bn1(x)\n",
    "        x = self.relu(x)\n",
    "        x = self.maxpool(x)\n",
    "        \n",
    "        x = self.layer1(x)\n",
    "        x = self.layer2(x)\n",
    "        x = self.layer3(x)\n",
    "        x = self.layer4(x)\n",
    "        \n",
    "        x = self.avgpool(x)\n",
    "        x = x.view(x.shape[0], -1)\n",
    "        return x \n",
    "    \n",
    "    def identity_downsample(self, in_channels, out_channels):\n",
    "        \n",
    "        return nn.Sequential(\n",
    "            nn.Conv2d(in_channels, out_channels, kernel_size=3, stride=2, padding=1), \n",
    "            nn.BatchNorm2d(out_channels)\n",
    "        )"
   ]
  },
  {
   "cell_type": "code",
   "execution_count": 122,
   "metadata": {
    "execution": {
     "iopub.execute_input": "2025-05-11T17:34:16.949721Z",
     "iopub.status.busy": "2025-05-11T17:34:16.949263Z",
     "iopub.status.idle": "2025-05-11T17:34:16.962680Z",
     "shell.execute_reply": "2025-05-11T17:34:16.962014Z",
     "shell.execute_reply.started": "2025-05-11T17:34:16.949704Z"
    }
   },
   "outputs": [],
   "source": [
    "import torchvision.models as models\n",
    "import torch.nn as nn\n",
    "import torch.nn.functional as F\n",
    "\n",
    "def append_dropout(model, rate=0.2):\n",
    "    for name, module in model.named_children():\n",
    "        if len(list(module.children())) > 0:\n",
    "            append_dropout(module)\n",
    "        if isinstance(module, nn.Linear):\n",
    "            new = nn.Sequential(module, nn.Dropout2d(p=rate))\n",
    "            setattr(model, name, new)\n",
    "            \n",
    "class VehicleCounterNet(nn.Module):\n",
    "    def __init__(self, num_classes=5, count_classes = 7, p = 0.3):\n",
    "        super(VehicleCounterNet, self).__init__()\n",
    "\n",
    "        # Load pretrained ResNet18 and modify\n",
    "        self.backbone = Resnet18()\n",
    "        num_features = 512\n",
    "        # Output head 1: Regress or classify number of vehicles\n",
    "        self.vehicle_count = nn.Sequential(\n",
    "                                           nn.Linear(num_features, num_features//2),\n",
    "                                           nn.BatchNorm1d([num_features//2]),\n",
    "                                           nn.Dropout(p),\n",
    "                                           nn.ReLU(),\n",
    "                                           nn.Linear(num_features//2, count_classes))\n",
    "\n",
    "        # Output head 2: Predict histogram (e.g., soft count distribution across possible values)\n",
    "        self.histogram_head = nn.Sequential(nn.Linear(num_features, num_features//2),\n",
    "                                           nn.BatchNorm1d([num_features//2]),\n",
    "                                           nn.ReLU(),\n",
    "                                           nn.Linear(num_features//2, num_classes))\n",
    "        self.cross_entropy = nn.CrossEntropyLoss()\n",
    "        self.freq = torch.Tensor([3.8822e-02, 5.4998e-03, 8.6703e-01, 4.8528e-03, 8.3468e-02])\n",
    "        weights = 1e-12 + self.freq # [1, num_classes]\n",
    "        weights = 1/weights\n",
    "        self.weights = torch.clip(weights, 1, 2)\n",
    "        #lambda P, Q: -torch.sum(self.freq*P*torch.log(Q + 1e-9))\n",
    "        self.mse = nn.MSELoss()\n",
    "        self.kl = nn.KLDivLoss(reduction = \"batchmean\")\n",
    "        self.lambda_count = 1\n",
    "        self.lambda_kl = 10\n",
    "        self.lambda_mse = 1\n",
    "        self.count_classes = count_classes\n",
    "\n",
    "    def forward(self, x):\n",
    "        features = self.backbone(x)\n",
    "        count_output = self.vehicle_count(features)\n",
    "        histogram_output = F.softmax(self.histogram_head(features), dim = 1)\n",
    "        return count_output, histogram_output\n",
    "\n",
    "    def masked_mse(self, y_pred, y_true):\n",
    "        # Create a mask where target is non-zero\n",
    "        mask = (y_true != 0).float()\n",
    "        \n",
    "        # Compute squared error only where mask == 1\n",
    "        loss = (mask * (y_pred - y_true) ** 2)\n",
    "        \n",
    "        # Avoid division by zero: normalize by number of non-zero elements\n",
    "        return loss.sum() / (mask.sum() + 1e-8)\n",
    "    \n",
    "    def weighted_soft_nll_loss(self, log_probs, soft_targets):\n",
    "        \"\"\"\n",
    "        log_probs: Tensor of shape [batch_size, num_classes], output of log_softmax\n",
    "        soft_targets: Tensor of shape [batch_size, num_classes], target distributions\n",
    "        class_weights: Tensor of shape [num_classes], weight per class\n",
    "        \"\"\"\n",
    "        weights = self.weights.unsqueeze(0).to(log_probs.device)  # [1, num_classes]\n",
    "        \n",
    "        # Apply weights to soft_targets\n",
    "        weighted_targets = soft_targets * weights  # [batch_size, num_classes]\n",
    "        \n",
    "        # Compute element-wise product: -weighted_targets * log_probs\n",
    "        loss = -torch.sum(weighted_targets * log_probs, dim=1)  # [batch_size]\n",
    "        \n",
    "        return loss.mean()  # or use .sum() if preferred\n",
    "\n",
    "    def loss(self, count_out, hist_out, count_label, hist_label):\n",
    "        count_label = F.one_hot(count_label, self.count_classes).float()\n",
    "        count_loss = self.cross_entropy(count_out, count_label)\n",
    "        target = hist_label + 1e-8\n",
    "        target_probs = (target) / target.sum(dim=1, keepdim=True)\n",
    "        expected_hist_loss = self.weighted_soft_nll_loss(torch.log(hist_out), target_probs)\n",
    "        #mse_loss = self.mse(count_label * hist_label, torch.argmax(count_out, dim = -1).unsqueeze(-1) * hist_out)\n",
    "        total_loss = (\n",
    "            self.lambda_count * count_loss +\n",
    "            self.lambda_kl * expected_hist_loss\n",
    "         #   self.lambda_mse * mse_loss\n",
    "        )\n",
    "        \n",
    "        return total_loss"
   ]
  },
  {
   "cell_type": "code",
   "execution_count": 123,
   "metadata": {
    "execution": {
     "iopub.execute_input": "2025-05-11T17:34:16.964448Z",
     "iopub.status.busy": "2025-05-11T17:34:16.964087Z",
     "iopub.status.idle": "2025-05-11T17:34:16.979281Z",
     "shell.execute_reply": "2025-05-11T17:34:16.978718Z",
     "shell.execute_reply.started": "2025-05-11T17:34:16.964434Z"
    }
   },
   "outputs": [],
   "source": [
    "import os\n",
    "from datetime import datetime\n",
    "\n",
    "class Logger:\n",
    "  def __init__(self, log_dir, filename='train_log.txt'):\n",
    "      os.makedirs(log_dir, exist_ok=True)\n",
    "      timestamp = datetime.now().strftime('%Y-%m-%d_%H-%M-%S')\n",
    "      self.log_dir = log_dir\n",
    "      self.log_path = os.path.join(log_dir, f'{timestamp}_{filename}')\n",
    "\n",
    "      with open(self.log_path, 'w') as f:\n",
    "          f.write(f\"Logging started: {timestamp}\\n\\n\")\n",
    "\n",
    "  def log(self, message):\n",
    "      timestamp = datetime.now().strftime('%H:%M:%S')\n",
    "      full_message = f\"[{timestamp}] {message}\"\n",
    "      print(full_message)  # also print to stdout\n",
    "      with open(self.log_path, 'a') as f:\n",
    "          f.write(full_message + '\\n')\n",
    "\n",
    "  def log_metrics(self, epoch, train_loss=None, val_loss=None, **kwargs):\n",
    "      msg = f\"Epoch {epoch} | Train Loss: {train_loss:.4f} | Val Loss: {val_loss:.4f}\"\n",
    "      for k, v in kwargs.items():\n",
    "          msg += f\" | {k}: {v:.4f}\" if isinstance(v, float) else f\" | {k}: {v}\"\n",
    "      self.log(msg)\n",
    "\n",
    "  def save_checkpoint(self, path, model, optimizer, epoch, best_val_loss):\n",
    "    checkpoint = {\n",
    "        'model_state_dict': model.state_dict(),\n",
    "        'optimizer_state_dict': optimizer.state_dict(),\n",
    "        'epoch': epoch,\n",
    "        'best_val_loss': best_val_loss\n",
    "    }\n",
    "    torch.save(checkpoint, os.path.join(self.log_dir, path))\n"
   ]
  },
  {
   "cell_type": "code",
   "execution_count": 124,
   "metadata": {
    "execution": {
     "iopub.execute_input": "2025-05-11T17:34:16.980077Z",
     "iopub.status.busy": "2025-05-11T17:34:16.979885Z",
     "iopub.status.idle": "2025-05-11T17:34:17.735950Z",
     "shell.execute_reply": "2025-05-11T17:34:17.735161Z",
     "shell.execute_reply.started": "2025-05-11T17:34:16.980063Z"
    }
   },
   "outputs": [
    {
     "name": "stderr",
     "output_type": "stream",
     "text": [
      "/tmp/ipykernel_31/3359385956.py:1: FutureWarning: You are using `torch.load` with `weights_only=False` (the current default value), which uses the default pickle module implicitly. It is possible to construct malicious pickle data which will execute arbitrary code during unpickling (See https://github.com/pytorch/pytorch/blob/main/SECURITY.md#untrusted-models for more details). In a future release, the default value for `weights_only` will be flipped to `True`. This limits the functions that could be executed during unpickling. Arbitrary objects will no longer be allowed to be loaded via this mode unless they are explicitly allowlisted by the user via `torch.serialization.add_safe_globals`. We recommend you start setting `weights_only=True` for any use case where you don't have full control of the loaded file. Please open an issue on GitHub for any issues related to this experimental feature.\n",
      "  data = torch.load(\"/kaggle/input/das-data-v2/data.pt\")\n"
     ]
    }
   ],
   "source": [
    "\n",
    "data = torch.load(\"/kaggle/input/das-data-v2/data.pt\")"
   ]
  },
  {
   "cell_type": "code",
   "execution_count": 125,
   "metadata": {
    "execution": {
     "iopub.execute_input": "2025-05-11T17:34:17.738071Z",
     "iopub.status.busy": "2025-05-11T17:34:17.737522Z",
     "iopub.status.idle": "2025-05-11T17:34:17.746089Z",
     "shell.execute_reply": "2025-05-11T17:34:17.745381Z",
     "shell.execute_reply.started": "2025-05-11T17:34:17.738051Z"
    }
   },
   "outputs": [
    {
     "name": "stdout",
     "output_type": "stream",
     "text": [
      "{'imgs': tensor([[[ -77.2581,  -81.7283,  -89.9515,  ...,  -87.0181,  -79.7682,\n",
      "           -89.3360],\n",
      "         [ -76.6283,  -69.6069,  -85.6036,  ...,  -85.7513,  -82.9768,\n",
      "           -86.4621],\n",
      "         [ -79.1442,  -69.5605,  -87.3304,  ...,  -81.3000,  -84.2434,\n",
      "           -94.8705],\n",
      "         ...,\n",
      "         [ -74.2253,  -73.9507,  -79.7667,  ...,  -85.7920,  -85.0900,\n",
      "           -88.9283],\n",
      "         [ -92.2295,  -83.9549,  -76.0350,  ...,  -88.2298,  -88.1630,\n",
      "           -81.9623],\n",
      "         [ -83.9844,  -80.3902, -100.4874,  ...,  -94.8631,  -86.7769,\n",
      "           -90.7864]],\n",
      "\n",
      "        [[ -81.1645,  -93.0901,  -69.2779,  ...,  -91.8404,  -90.7840,\n",
      "           -93.5275],\n",
      "         [ -85.8206,  -76.4980,  -77.8869,  ...,  -88.0272, -100.2061,\n",
      "           -86.4210],\n",
      "         [ -85.9559,  -79.2383,  -79.7804,  ...,  -87.2068,  -90.7048,\n",
      "           -88.6315],\n",
      "         ...,\n",
      "         [ -85.7070,  -93.9815,  -84.2708,  ...,  -61.3353,  -63.4134,\n",
      "           -69.7668],\n",
      "         [ -82.8358,  -85.3931,  -80.3314,  ...,  -79.4162,  -76.5596,\n",
      "           -78.3642],\n",
      "         [ -78.4117,  -76.0925,  -80.2561,  ...,  -75.4553,  -83.2167,\n",
      "           -94.2885]],\n",
      "\n",
      "        [[ -92.1444,  -83.6308,  -90.9947,  ...,  -75.3305,  -83.0537,\n",
      "           -88.4981],\n",
      "         [ -83.6422,  -77.3272,  -81.7186,  ...,  -77.5623,  -80.0375,\n",
      "           -84.1488],\n",
      "         [ -92.1918,  -81.6162,  -94.4317,  ...,  -89.4638,  -83.7713,\n",
      "           -86.8960],\n",
      "         ...,\n",
      "         [ -86.3730,  -83.3882,  -77.5995,  ...,  -88.7757,  -81.4813,\n",
      "           -91.3816],\n",
      "         [ -76.0601,  -72.0255,  -75.4925,  ...,  -91.2113,  -79.2206,\n",
      "           -87.6321],\n",
      "         [ -80.7848,  -75.6789,  -94.2522,  ...,  -89.5422,  -88.0982,\n",
      "           -91.0822]],\n",
      "\n",
      "        ...,\n",
      "\n",
      "        [[ -76.5073,  -70.3930,  -69.9447,  ...,  -90.2799,  -80.7061,\n",
      "           -93.5140],\n",
      "         [ -79.2416,  -72.9390,  -80.0798,  ...,  -95.6039,  -85.1483,\n",
      "           -83.7638],\n",
      "         [ -76.5006,  -77.7730,  -85.0154,  ...,  -80.6962,  -78.6876,\n",
      "           -87.6893],\n",
      "         ...,\n",
      "         [ -77.6513,  -70.5640,  -68.1169,  ...,  -86.6322,  -83.9811,\n",
      "           -84.0679],\n",
      "         [ -72.9259,  -91.9839,  -73.0667,  ...,  -81.4368,  -83.7371,\n",
      "           -89.9388],\n",
      "         [ -80.4540,  -73.7968,  -72.7411,  ...,  -79.4175,  -80.6981,\n",
      "           -95.0644]],\n",
      "\n",
      "        [[ -73.0270,  -70.1236,  -72.8919,  ...,  -90.6757,  -81.7546,\n",
      "           -84.5491],\n",
      "         [ -81.5681,  -70.6437,  -68.7018,  ...,  -89.0929,  -80.2176,\n",
      "           -84.8684],\n",
      "         [ -80.8281,  -71.1784,  -76.2755,  ...,  -84.4822,  -77.3450,\n",
      "           -84.1708],\n",
      "         ...,\n",
      "         [ -70.3946,  -71.5234,  -74.0224,  ...,  -64.7764,  -67.3636,\n",
      "           -69.2208],\n",
      "         [ -75.5191,  -77.3297,  -82.4556,  ...,  -63.9654,  -61.1552,\n",
      "           -60.1596],\n",
      "         [ -77.6059,  -70.4799,  -73.9539,  ...,  -66.7770,  -63.2268,\n",
      "           -62.8774]],\n",
      "\n",
      "        [[ -74.6797,  -69.6250,  -78.5241,  ...,  -62.3574,  -63.1773,\n",
      "           -67.3002],\n",
      "         [ -70.7302,  -75.2416,  -80.2196,  ...,  -62.3431,  -64.0787,\n",
      "           -77.3168],\n",
      "         [ -75.6642,  -74.7140,  -72.5559,  ...,  -66.8697,  -67.3797,\n",
      "           -74.4069],\n",
      "         ...,\n",
      "         [ -77.6859,  -74.5303,  -71.0864,  ...,  -91.5395,  -82.9447,\n",
      "           -90.7881],\n",
      "         [ -71.0175,  -68.7692,  -69.9110,  ...,  -89.9400,  -65.7028,\n",
      "           -83.2667],\n",
      "         [ -77.2762,  -70.3928,  -71.9253,  ...,  -93.2730,  -69.1053,\n",
      "           -88.0353]]], dtype=torch.float64), 'ids': tensor([   5,    6,    7,  ..., 2167, 2168, 2169]), 'counts': tensor([1, 1, 1,  ..., 5, 5, 5]), 'labels': tensor([[0, 0, 1,  ..., 0, 0, 0],\n",
      "        [0, 0, 1,  ..., 0, 0, 0],\n",
      "        [0, 0, 1,  ..., 0, 0, 0],\n",
      "        ...,\n",
      "        [0, 0, 5,  ..., 0, 0, 0],\n",
      "        [0, 0, 5,  ..., 0, 0, 0],\n",
      "        [0, 0, 5,  ..., 0, 0, 0]])}\n"
     ]
    }
   ],
   "source": [
    "print(data)"
   ]
  },
  {
   "cell_type": "code",
   "execution_count": 126,
   "metadata": {
    "execution": {
     "iopub.execute_input": "2025-05-11T17:34:17.746880Z",
     "iopub.status.busy": "2025-05-11T17:34:17.746682Z",
     "iopub.status.idle": "2025-05-11T17:34:17.761011Z",
     "shell.execute_reply": "2025-05-11T17:34:17.760473Z",
     "shell.execute_reply.started": "2025-05-11T17:34:17.746864Z"
    }
   },
   "outputs": [
    {
     "name": "stdout",
     "output_type": "stream",
     "text": [
      "(tensor([ 1,  2,  3,  4,  5,  6,  7,  8,  9, 10, 11, 12, 13, 14, 15, 17, 18, 19]), tensor([309, 111,  85,  77, 253, 122, 109,  85,  73, 100,  29,  13,  11,   3,\n",
      "          8,   1,   1,   1]))\n"
     ]
    }
   ],
   "source": [
    "import matplotlib.pyplot as plt\n",
    "counts = data[\"counts\"]\n",
    "print(torch.unique(counts, return_counts = True))"
   ]
  },
  {
   "cell_type": "code",
   "execution_count": 127,
   "metadata": {
    "execution": {
     "iopub.execute_input": "2025-05-11T17:34:17.761961Z",
     "iopub.status.busy": "2025-05-11T17:34:17.761707Z",
     "iopub.status.idle": "2025-05-11T17:34:24.149406Z",
     "shell.execute_reply": "2025-05-11T17:34:24.148792Z",
     "shell.execute_reply.started": "2025-05-11T17:34:17.761940Z"
    }
   },
   "outputs": [],
   "source": [
    "filtered_data = {}\n",
    "filtered_data[\"imgs\"] = []\n",
    "filtered_data[\"counts\"] = []\n",
    "filtered_data[\"labels\"] = []\n",
    "filtered_data[\"ids\"] = []\n",
    "#filter out when counts <= 6\n",
    "for i in range(len(counts)):\n",
    "    if counts[i] <= 6:\n",
    "        for k in [\"imgs\", \"counts\", \"labels\", \"ids\"]:\n",
    "            filtered_data[k].append(data[k][i].tolist())"
   ]
  },
  {
   "cell_type": "code",
   "execution_count": 128,
   "metadata": {
    "execution": {
     "iopub.execute_input": "2025-05-11T17:34:24.150341Z",
     "iopub.status.busy": "2025-05-11T17:34:24.150132Z",
     "iopub.status.idle": "2025-05-11T17:34:37.359132Z",
     "shell.execute_reply": "2025-05-11T17:34:37.358633Z",
     "shell.execute_reply.started": "2025-05-11T17:34:24.150325Z"
    }
   },
   "outputs": [
    {
     "name": "stdout",
     "output_type": "stream",
     "text": [
      "torch.Size([957, 585, 153])\n",
      "torch.Size([957])\n",
      "torch.Size([957, 8])\n",
      "torch.Size([957])\n"
     ]
    }
   ],
   "source": [
    "for k in [\"imgs\", \"counts\", \"labels\", \"ids\"]:\n",
    "    filtered_data[k] = torch.tensor(filtered_data[k])\n",
    "    print(filtered_data[k].shape)"
   ]
  },
  {
   "cell_type": "code",
   "execution_count": 129,
   "metadata": {
    "execution": {
     "iopub.execute_input": "2025-05-11T17:34:37.359914Z",
     "iopub.status.busy": "2025-05-11T17:34:37.359704Z",
     "iopub.status.idle": "2025-05-11T17:34:37.363995Z",
     "shell.execute_reply": "2025-05-11T17:34:37.363290Z",
     "shell.execute_reply.started": "2025-05-11T17:34:37.359898Z"
    }
   },
   "outputs": [],
   "source": [
    "filtered_data[\"labels\"] = torch.hstack((filtered_data[\"labels\"][:, :4], filtered_data[\"labels\"][:, 7:]))"
   ]
  },
  {
   "cell_type": "code",
   "execution_count": 130,
   "metadata": {
    "execution": {
     "iopub.execute_input": "2025-05-11T17:34:37.366285Z",
     "iopub.status.busy": "2025-05-11T17:34:37.366064Z",
     "iopub.status.idle": "2025-05-11T17:34:37.638515Z",
     "shell.execute_reply": "2025-05-11T17:34:37.637836Z",
     "shell.execute_reply.started": "2025-05-11T17:34:37.366269Z"
    }
   },
   "outputs": [],
   "source": [
    "from torch.utils.data import random_split, DataLoader\n",
    "from torchvision.transforms import v2\n",
    "images = filtered_data[\"imgs\"]\n",
    "counts = filtered_data[\"counts\"]\n",
    "labels = filtered_data[\"labels\"]\n",
    "ids = filtered_data[\"ids\"]\n",
    "train_transform = v2.Compose([\n",
    "    v2.RandomHorizontalFlip(),         # flip image horizontally\n",
    "    v2.RandomVerticalFlip(),\n",
    "    v2.ToTensor(),                     # convert to tensor\n",
    "    v2.Normalize((0.5, ), (0.5, ))            # normalize\n",
    "])\n",
    "from sklearn.model_selection import train_test_split\n",
    "train_imgs, test_imgs, train_counts, test_counts, train_labels, test_labels, train_ids, test_ids = train_test_split(images, counts, labels, ids, test_size = 0.1)\n",
    "train_ds = Dataset(train_imgs, train_counts, train_labels, ids, transforms = train_transform)\n",
    "test_ds = Dataset(test_imgs, test_counts, test_labels, ids, transforms = v2.Normalize((0.5, ), (0.5, )))"
   ]
  },
  {
   "cell_type": "code",
   "execution_count": 131,
   "metadata": {
    "execution": {
     "iopub.execute_input": "2025-05-11T17:34:37.639888Z",
     "iopub.status.busy": "2025-05-11T17:34:37.639527Z",
     "iopub.status.idle": "2025-05-11T17:34:37.644152Z",
     "shell.execute_reply": "2025-05-11T17:34:37.643226Z",
     "shell.execute_reply.started": "2025-05-11T17:34:37.639858Z"
    }
   },
   "outputs": [],
   "source": [
    "from torch.utils.data import DataLoader\n",
    "import torch.optim as optim\n",
    "from tqdm import tqdm"
   ]
  },
  {
   "cell_type": "code",
   "execution_count": 132,
   "metadata": {
    "execution": {
     "iopub.execute_input": "2025-05-11T17:34:37.645116Z",
     "iopub.status.busy": "2025-05-11T17:34:37.644894Z",
     "iopub.status.idle": "2025-05-11T17:37:54.912812Z",
     "shell.execute_reply": "2025-05-11T17:37:54.912219Z",
     "shell.execute_reply.started": "2025-05-11T17:34:37.645100Z"
    }
   },
   "outputs": [
    {
     "name": "stderr",
     "output_type": "stream",
     "text": [
      "  2%|▏         | 1/50 [00:04<03:27,  4.23s/it]"
     ]
    },
    {
     "name": "stdout",
     "output_type": "stream",
     "text": [
      "[17:34:42] Epoch 1/50 Train Loss: 12.69 | Count Acc: 0.35 | Label Acc: 0.65|| Val Loss: 116.89 | Count Acc: 0.36 | Label Acc: 0.82\n"
     ]
    },
    {
     "name": "stderr",
     "output_type": "stream",
     "text": [
      "  4%|▍         | 2/50 [00:08<03:23,  4.24s/it]"
     ]
    },
    {
     "name": "stdout",
     "output_type": "stream",
     "text": [
      "[17:34:46] Epoch 2/50 Train Loss: 9.26 | Count Acc: 0.44 | Label Acc: 0.75|| Val Loss: 9.42 | Count Acc: 0.40 | Label Acc: 0.82\n"
     ]
    },
    {
     "name": "stderr",
     "output_type": "stream",
     "text": [
      "  6%|▌         | 3/50 [00:12<03:19,  4.24s/it]"
     ]
    },
    {
     "name": "stdout",
     "output_type": "stream",
     "text": [
      "[17:34:50] Epoch 3/50 Train Loss: 8.93 | Count Acc: 0.44 | Label Acc: 0.76|| Val Loss: 8.99 | Count Acc: 0.43 | Label Acc: 0.82\n"
     ]
    },
    {
     "name": "stderr",
     "output_type": "stream",
     "text": [
      "  8%|▊         | 4/50 [00:16<03:08,  4.11s/it]"
     ]
    },
    {
     "name": "stdout",
     "output_type": "stream",
     "text": [
      "[17:34:54] Epoch 4/50 Train Loss: 8.90 | Count Acc: 0.44 | Label Acc: 0.75|| Val Loss: 10.80 | Count Acc: 0.43 | Label Acc: 0.82\n"
     ]
    },
    {
     "name": "stderr",
     "output_type": "stream",
     "text": [
      " 10%|█         | 5/50 [00:20<03:06,  4.15s/it]"
     ]
    },
    {
     "name": "stdout",
     "output_type": "stream",
     "text": [
      "[17:34:58] Epoch 5/50 Train Loss: 8.79 | Count Acc: 0.45 | Label Acc: 0.76|| Val Loss: 8.90 | Count Acc: 0.48 | Label Acc: 0.82\n"
     ]
    },
    {
     "name": "stderr",
     "output_type": "stream",
     "text": [
      " 12%|█▏        | 6/50 [00:25<03:04,  4.19s/it]"
     ]
    },
    {
     "name": "stdout",
     "output_type": "stream",
     "text": [
      "[17:35:03] Epoch 6/50 Train Loss: 8.77 | Count Acc: 0.45 | Label Acc: 0.75|| Val Loss: 9.84 | Count Acc: 0.49 | Label Acc: 0.82\n"
     ]
    },
    {
     "name": "stderr",
     "output_type": "stream",
     "text": [
      " 14%|█▍        | 7/50 [00:29<03:00,  4.20s/it]"
     ]
    },
    {
     "name": "stdout",
     "output_type": "stream",
     "text": [
      "[17:35:07] Epoch 7/50 Train Loss: 8.75 | Count Acc: 0.46 | Label Acc: 0.75|| Val Loss: 8.18 | Count Acc: 0.55 | Label Acc: 0.82\n"
     ]
    },
    {
     "name": "stderr",
     "output_type": "stream",
     "text": [
      " 16%|█▌        | 8/50 [00:33<02:52,  4.12s/it]"
     ]
    },
    {
     "name": "stdout",
     "output_type": "stream",
     "text": [
      "[17:35:11] Epoch 8/50 Train Loss: 8.82 | Count Acc: 0.46 | Label Acc: 0.76|| Val Loss: 10.91 | Count Acc: 0.41 | Label Acc: 0.82\n"
     ]
    },
    {
     "name": "stderr",
     "output_type": "stream",
     "text": [
      " 18%|█▊        | 9/50 [00:37<02:45,  4.04s/it]"
     ]
    },
    {
     "name": "stdout",
     "output_type": "stream",
     "text": [
      "[17:35:15] Epoch 9/50 Train Loss: 8.57 | Count Acc: 0.48 | Label Acc: 0.76|| Val Loss: 10.81 | Count Acc: 0.23 | Label Acc: 0.82\n"
     ]
    },
    {
     "name": "stderr",
     "output_type": "stream",
     "text": [
      " 20%|██        | 10/50 [00:41<02:39,  3.99s/it]"
     ]
    },
    {
     "name": "stdout",
     "output_type": "stream",
     "text": [
      "[17:35:19] Epoch 10/50 Train Loss: 8.49 | Count Acc: 0.47 | Label Acc: 0.77|| Val Loss: 8.61 | Count Acc: 0.51 | Label Acc: 0.82\n"
     ]
    },
    {
     "name": "stderr",
     "output_type": "stream",
     "text": [
      " 22%|██▏       | 11/50 [00:45<02:38,  4.07s/it]"
     ]
    },
    {
     "name": "stdout",
     "output_type": "stream",
     "text": [
      "[17:35:23] Epoch 11/50 Train Loss: 8.33 | Count Acc: 0.46 | Label Acc: 0.75|| Val Loss: 8.67 | Count Acc: 0.58 | Label Acc: 0.82\n"
     ]
    },
    {
     "name": "stderr",
     "output_type": "stream",
     "text": [
      " 24%|██▍       | 12/50 [00:49<02:32,  4.01s/it]"
     ]
    },
    {
     "name": "stdout",
     "output_type": "stream",
     "text": [
      "[17:35:27] Epoch 12/50 Train Loss: 8.29 | Count Acc: 0.47 | Label Acc: 0.78|| Val Loss: 9.15 | Count Acc: 0.50 | Label Acc: 0.82\n"
     ]
    },
    {
     "name": "stderr",
     "output_type": "stream",
     "text": [
      " 26%|██▌       | 13/50 [00:53<02:26,  3.97s/it]"
     ]
    },
    {
     "name": "stdout",
     "output_type": "stream",
     "text": [
      "[17:35:31] Epoch 13/50 Train Loss: 8.42 | Count Acc: 0.47 | Label Acc: 0.76|| Val Loss: 8.29 | Count Acc: 0.56 | Label Acc: 0.82\n"
     ]
    },
    {
     "name": "stderr",
     "output_type": "stream",
     "text": [
      " 28%|██▊       | 14/50 [00:56<02:21,  3.94s/it]"
     ]
    },
    {
     "name": "stdout",
     "output_type": "stream",
     "text": [
      "[17:35:34] Epoch 14/50 Train Loss: 8.28 | Count Acc: 0.49 | Label Acc: 0.78|| Val Loss: 12.51 | Count Acc: 0.12 | Label Acc: 0.82\n"
     ]
    },
    {
     "name": "stderr",
     "output_type": "stream",
     "text": [
      " 30%|███       | 15/50 [01:00<02:17,  3.92s/it]"
     ]
    },
    {
     "name": "stdout",
     "output_type": "stream",
     "text": [
      "[17:35:38] Epoch 15/50 Train Loss: 8.65 | Count Acc: 0.47 | Label Acc: 0.77|| Val Loss: 10.54 | Count Acc: 0.39 | Label Acc: 0.82\n"
     ]
    },
    {
     "name": "stderr",
     "output_type": "stream",
     "text": [
      " 32%|███▏      | 16/50 [01:04<02:13,  3.91s/it]"
     ]
    },
    {
     "name": "stdout",
     "output_type": "stream",
     "text": [
      "[17:35:42] Epoch 16/50 Train Loss: 8.31 | Count Acc: 0.46 | Label Acc: 0.76|| Val Loss: 8.33 | Count Acc: 0.53 | Label Acc: 0.82\n"
     ]
    },
    {
     "name": "stderr",
     "output_type": "stream",
     "text": [
      " 34%|███▍      | 17/50 [01:08<02:08,  3.90s/it]"
     ]
    },
    {
     "name": "stdout",
     "output_type": "stream",
     "text": [
      "[17:35:46] Epoch 17/50 Train Loss: 8.06 | Count Acc: 0.48 | Label Acc: 0.77|| Val Loss: 18.52 | Count Acc: 0.36 | Label Acc: 0.82\n"
     ]
    },
    {
     "name": "stderr",
     "output_type": "stream",
     "text": [
      " 36%|███▌      | 18/50 [01:12<02:04,  3.89s/it]"
     ]
    },
    {
     "name": "stdout",
     "output_type": "stream",
     "text": [
      "[17:35:50] Epoch 18/50 Train Loss: 8.00 | Count Acc: 0.48 | Label Acc: 0.77|| Val Loss: 14.32 | Count Acc: 0.15 | Label Acc: 0.72\n"
     ]
    },
    {
     "name": "stderr",
     "output_type": "stream",
     "text": [
      " 38%|███▊      | 19/50 [01:16<02:00,  3.89s/it]"
     ]
    },
    {
     "name": "stdout",
     "output_type": "stream",
     "text": [
      "[17:35:54] Epoch 19/50 Train Loss: 8.04 | Count Acc: 0.48 | Label Acc: 0.78|| Val Loss: 13.71 | Count Acc: 0.36 | Label Acc: 0.82\n"
     ]
    },
    {
     "name": "stderr",
     "output_type": "stream",
     "text": [
      " 40%|████      | 20/50 [01:20<01:56,  3.88s/it]"
     ]
    },
    {
     "name": "stdout",
     "output_type": "stream",
     "text": [
      "[17:35:58] Epoch 20/50 Train Loss: 8.02 | Count Acc: 0.47 | Label Acc: 0.78|| Val Loss: 10.11 | Count Acc: 0.34 | Label Acc: 0.82\n"
     ]
    },
    {
     "name": "stderr",
     "output_type": "stream",
     "text": [
      " 42%|████▏     | 21/50 [01:24<01:52,  3.89s/it]"
     ]
    },
    {
     "name": "stdout",
     "output_type": "stream",
     "text": [
      "[17:36:02] Epoch 21/50 Train Loss: 7.87 | Count Acc: 0.48 | Label Acc: 0.78|| Val Loss: 12.58 | Count Acc: 0.12 | Label Acc: 0.82\n"
     ]
    },
    {
     "name": "stderr",
     "output_type": "stream",
     "text": [
      " 44%|████▍     | 22/50 [01:27<01:48,  3.89s/it]"
     ]
    },
    {
     "name": "stdout",
     "output_type": "stream",
     "text": [
      "[17:36:05] Epoch 22/50 Train Loss: 7.92 | Count Acc: 0.49 | Label Acc: 0.79|| Val Loss: 9.18 | Count Acc: 0.40 | Label Acc: 0.82\n"
     ]
    },
    {
     "name": "stderr",
     "output_type": "stream",
     "text": [
      " 46%|████▌     | 23/50 [01:31<01:45,  3.89s/it]"
     ]
    },
    {
     "name": "stdout",
     "output_type": "stream",
     "text": [
      "[17:36:09] Epoch 23/50 Train Loss: 7.95 | Count Acc: 0.48 | Label Acc: 0.78|| Val Loss: 7.85 | Count Acc: 0.52 | Label Acc: 0.82\n"
     ]
    },
    {
     "name": "stderr",
     "output_type": "stream",
     "text": [
      " 48%|████▊     | 24/50 [01:35<01:41,  3.89s/it]"
     ]
    },
    {
     "name": "stdout",
     "output_type": "stream",
     "text": [
      "[17:36:13] Epoch 24/50 Train Loss: 7.95 | Count Acc: 0.48 | Label Acc: 0.78|| Val Loss: 13.49 | Count Acc: 0.41 | Label Acc: 0.82\n"
     ]
    },
    {
     "name": "stderr",
     "output_type": "stream",
     "text": [
      " 50%|█████     | 25/50 [01:39<01:37,  3.89s/it]"
     ]
    },
    {
     "name": "stdout",
     "output_type": "stream",
     "text": [
      "[17:36:17] Epoch 25/50 Train Loss: 7.81 | Count Acc: 0.48 | Label Acc: 0.79|| Val Loss: 10.90 | Count Acc: 0.35 | Label Acc: 0.80\n"
     ]
    },
    {
     "name": "stderr",
     "output_type": "stream",
     "text": [
      " 52%|█████▏    | 26/50 [01:43<01:33,  3.89s/it]"
     ]
    },
    {
     "name": "stdout",
     "output_type": "stream",
     "text": [
      "[17:36:21] Epoch 26/50 Train Loss: 7.59 | Count Acc: 0.50 | Label Acc: 0.80|| Val Loss: 12.32 | Count Acc: 0.23 | Label Acc: 0.77\n"
     ]
    },
    {
     "name": "stderr",
     "output_type": "stream",
     "text": [
      " 54%|█████▍    | 27/50 [01:47<01:29,  3.88s/it]"
     ]
    },
    {
     "name": "stdout",
     "output_type": "stream",
     "text": [
      "[17:36:25] Epoch 27/50 Train Loss: 7.53 | Count Acc: 0.50 | Label Acc: 0.80|| Val Loss: 13.63 | Count Acc: 0.06 | Label Acc: 0.72\n"
     ]
    },
    {
     "name": "stderr",
     "output_type": "stream",
     "text": [
      " 56%|█████▌    | 28/50 [01:51<01:25,  3.88s/it]"
     ]
    },
    {
     "name": "stdout",
     "output_type": "stream",
     "text": [
      "[17:36:29] Epoch 28/50 Train Loss: 7.58 | Count Acc: 0.49 | Label Acc: 0.79|| Val Loss: 10.64 | Count Acc: 0.28 | Label Acc: 0.82\n"
     ]
    },
    {
     "name": "stderr",
     "output_type": "stream",
     "text": [
      " 58%|█████▊    | 29/50 [01:55<01:21,  3.89s/it]"
     ]
    },
    {
     "name": "stdout",
     "output_type": "stream",
     "text": [
      "[17:36:33] Epoch 29/50 Train Loss: 7.75 | Count Acc: 0.48 | Label Acc: 0.79|| Val Loss: 16.51 | Count Acc: 0.09 | Label Acc: 0.61\n"
     ]
    },
    {
     "name": "stderr",
     "output_type": "stream",
     "text": [
      " 60%|██████    | 30/50 [01:59<01:17,  3.89s/it]"
     ]
    },
    {
     "name": "stdout",
     "output_type": "stream",
     "text": [
      "[17:36:37] Epoch 30/50 Train Loss: 7.93 | Count Acc: 0.50 | Label Acc: 0.79|| Val Loss: 12.65 | Count Acc: 0.47 | Label Acc: 0.82\n"
     ]
    },
    {
     "name": "stderr",
     "output_type": "stream",
     "text": [
      " 62%|██████▏   | 31/50 [02:02<01:13,  3.89s/it]"
     ]
    },
    {
     "name": "stdout",
     "output_type": "stream",
     "text": [
      "[17:36:40] Epoch 31/50 Train Loss: 7.37 | Count Acc: 0.48 | Label Acc: 0.79|| Val Loss: 10.12 | Count Acc: 0.32 | Label Acc: 0.82\n"
     ]
    },
    {
     "name": "stderr",
     "output_type": "stream",
     "text": [
      " 64%|██████▍   | 32/50 [02:06<01:10,  3.89s/it]"
     ]
    },
    {
     "name": "stdout",
     "output_type": "stream",
     "text": [
      "[17:36:44] Epoch 32/50 Train Loss: 7.41 | Count Acc: 0.49 | Label Acc: 0.80|| Val Loss: 11.50 | Count Acc: 0.34 | Label Acc: 0.82\n"
     ]
    },
    {
     "name": "stderr",
     "output_type": "stream",
     "text": [
      " 66%|██████▌   | 33/50 [02:10<01:06,  3.89s/it]"
     ]
    },
    {
     "name": "stdout",
     "output_type": "stream",
     "text": [
      "[17:36:48] Epoch 33/50 Train Loss: 7.40 | Count Acc: 0.50 | Label Acc: 0.80|| Val Loss: 10.54 | Count Acc: 0.46 | Label Acc: 0.82\n"
     ]
    },
    {
     "name": "stderr",
     "output_type": "stream",
     "text": [
      " 68%|██████▊   | 34/50 [02:14<01:02,  3.89s/it]"
     ]
    },
    {
     "name": "stdout",
     "output_type": "stream",
     "text": [
      "[17:36:52] Epoch 34/50 Train Loss: 7.51 | Count Acc: 0.48 | Label Acc: 0.80|| Val Loss: 8.19 | Count Acc: 0.50 | Label Acc: 0.82\n"
     ]
    },
    {
     "name": "stderr",
     "output_type": "stream",
     "text": [
      " 70%|███████   | 35/50 [02:18<00:58,  3.89s/it]"
     ]
    },
    {
     "name": "stdout",
     "output_type": "stream",
     "text": [
      "[17:36:56] Epoch 35/50 Train Loss: 7.57 | Count Acc: 0.50 | Label Acc: 0.78|| Val Loss: 10.93 | Count Acc: 0.32 | Label Acc: 0.82\n"
     ]
    },
    {
     "name": "stderr",
     "output_type": "stream",
     "text": [
      " 72%|███████▏  | 36/50 [02:22<00:54,  3.89s/it]"
     ]
    },
    {
     "name": "stdout",
     "output_type": "stream",
     "text": [
      "[17:37:00] Epoch 36/50 Train Loss: 7.19 | Count Acc: 0.50 | Label Acc: 0.80|| Val Loss: 8.36 | Count Acc: 0.45 | Label Acc: 0.82\n"
     ]
    },
    {
     "name": "stderr",
     "output_type": "stream",
     "text": [
      " 74%|███████▍  | 37/50 [02:26<00:50,  3.89s/it]"
     ]
    },
    {
     "name": "stdout",
     "output_type": "stream",
     "text": [
      "[17:37:04] Epoch 37/50 Train Loss: 7.39 | Count Acc: 0.49 | Label Acc: 0.80|| Val Loss: 18.55 | Count Acc: 0.11 | Label Acc: 0.78\n"
     ]
    },
    {
     "name": "stderr",
     "output_type": "stream",
     "text": [
      " 76%|███████▌  | 38/50 [02:30<00:46,  3.89s/it]"
     ]
    },
    {
     "name": "stdout",
     "output_type": "stream",
     "text": [
      "[17:37:08] Epoch 38/50 Train Loss: 7.46 | Count Acc: 0.49 | Label Acc: 0.79|| Val Loss: 10.93 | Count Acc: 0.39 | Label Acc: 0.82\n"
     ]
    },
    {
     "name": "stderr",
     "output_type": "stream",
     "text": [
      " 78%|███████▊  | 39/50 [02:34<00:42,  3.89s/it]"
     ]
    },
    {
     "name": "stdout",
     "output_type": "stream",
     "text": [
      "[17:37:12] Epoch 39/50 Train Loss: 7.07 | Count Acc: 0.51 | Label Acc: 0.81|| Val Loss: 11.57 | Count Acc: 0.42 | Label Acc: 0.82\n"
     ]
    },
    {
     "name": "stderr",
     "output_type": "stream",
     "text": [
      " 80%|████████  | 40/50 [02:37<00:38,  3.89s/it]"
     ]
    },
    {
     "name": "stdout",
     "output_type": "stream",
     "text": [
      "[17:37:15] Epoch 40/50 Train Loss: 7.30 | Count Acc: 0.53 | Label Acc: 0.80|| Val Loss: 12.30 | Count Acc: 0.36 | Label Acc: 0.81\n"
     ]
    },
    {
     "name": "stderr",
     "output_type": "stream",
     "text": [
      " 82%|████████▏ | 41/50 [02:41<00:35,  3.89s/it]"
     ]
    },
    {
     "name": "stdout",
     "output_type": "stream",
     "text": [
      "[17:37:19] Epoch 41/50 Train Loss: 7.24 | Count Acc: 0.52 | Label Acc: 0.81|| Val Loss: 9.35 | Count Acc: 0.50 | Label Acc: 0.80\n"
     ]
    },
    {
     "name": "stderr",
     "output_type": "stream",
     "text": [
      " 84%|████████▍ | 42/50 [02:45<00:31,  3.89s/it]"
     ]
    },
    {
     "name": "stdout",
     "output_type": "stream",
     "text": [
      "[17:37:23] Epoch 42/50 Train Loss: 7.03 | Count Acc: 0.50 | Label Acc: 0.80|| Val Loss: 13.34 | Count Acc: 0.53 | Label Acc: 0.82\n"
     ]
    },
    {
     "name": "stderr",
     "output_type": "stream",
     "text": [
      " 86%|████████▌ | 43/50 [02:49<00:27,  3.89s/it]"
     ]
    },
    {
     "name": "stdout",
     "output_type": "stream",
     "text": [
      "[17:37:27] Epoch 43/50 Train Loss: 6.90 | Count Acc: 0.52 | Label Acc: 0.82|| Val Loss: 11.18 | Count Acc: 0.44 | Label Acc: 0.81\n"
     ]
    },
    {
     "name": "stderr",
     "output_type": "stream",
     "text": [
      " 88%|████████▊ | 44/50 [02:53<00:23,  3.89s/it]"
     ]
    },
    {
     "name": "stdout",
     "output_type": "stream",
     "text": [
      "[17:37:31] Epoch 44/50 Train Loss: 7.10 | Count Acc: 0.51 | Label Acc: 0.80|| Val Loss: 10.92 | Count Acc: 0.44 | Label Acc: 0.82\n"
     ]
    },
    {
     "name": "stderr",
     "output_type": "stream",
     "text": [
      " 90%|█████████ | 45/50 [02:57<00:19,  3.90s/it]"
     ]
    },
    {
     "name": "stdout",
     "output_type": "stream",
     "text": [
      "[17:37:35] Epoch 45/50 Train Loss: 6.81 | Count Acc: 0.52 | Label Acc: 0.80|| Val Loss: 10.38 | Count Acc: 0.46 | Label Acc: 0.82\n"
     ]
    },
    {
     "name": "stderr",
     "output_type": "stream",
     "text": [
      " 92%|█████████▏| 46/50 [03:01<00:15,  3.90s/it]"
     ]
    },
    {
     "name": "stdout",
     "output_type": "stream",
     "text": [
      "[17:37:39] Epoch 46/50 Train Loss: 6.66 | Count Acc: 0.53 | Label Acc: 0.82|| Val Loss: 21.46 | Count Acc: 0.21 | Label Acc: 0.71\n"
     ]
    },
    {
     "name": "stderr",
     "output_type": "stream",
     "text": [
      " 94%|█████████▍| 47/50 [03:05<00:11,  3.90s/it]"
     ]
    },
    {
     "name": "stdout",
     "output_type": "stream",
     "text": [
      "[17:37:43] Epoch 47/50 Train Loss: 6.96 | Count Acc: 0.53 | Label Acc: 0.81|| Val Loss: 27.29 | Count Acc: 0.35 | Label Acc: 0.82\n"
     ]
    },
    {
     "name": "stderr",
     "output_type": "stream",
     "text": [
      " 96%|█████████▌| 48/50 [03:09<00:07,  3.90s/it]"
     ]
    },
    {
     "name": "stdout",
     "output_type": "stream",
     "text": [
      "[17:37:47] Epoch 48/50 Train Loss: 7.05 | Count Acc: 0.54 | Label Acc: 0.82|| Val Loss: 16.10 | Count Acc: 0.36 | Label Acc: 0.82\n"
     ]
    },
    {
     "name": "stderr",
     "output_type": "stream",
     "text": [
      " 98%|█████████▊| 49/50 [03:13<00:03,  3.90s/it]"
     ]
    },
    {
     "name": "stdout",
     "output_type": "stream",
     "text": [
      "[17:37:51] Epoch 49/50 Train Loss: 6.90 | Count Acc: 0.52 | Label Acc: 0.81|| Val Loss: 11.64 | Count Acc: 0.21 | Label Acc: 0.78\n"
     ]
    },
    {
     "name": "stderr",
     "output_type": "stream",
     "text": [
      "100%|██████████| 50/50 [03:16<00:00,  3.94s/it]"
     ]
    },
    {
     "name": "stdout",
     "output_type": "stream",
     "text": [
      "[17:37:54] Epoch 50/50 Train Loss: 6.77 | Count Acc: 0.53 | Label Acc: 0.81|| Val Loss: 9.40 | Count Acc: 0.52 | Label Acc: 0.82\n"
     ]
    },
    {
     "name": "stderr",
     "output_type": "stream",
     "text": [
      "\n"
     ]
    }
   ],
   "source": [
    "model = VehicleCounterNet(p = 0.5)\n",
    "device = torch.device(\"cuda\" if torch.cuda.is_available() else \"cpu\")\n",
    "model = model.to(device)\n",
    "logger = Logger(\"/kaggle/working/182_proj_logs_cross_entropy/\")\n",
    "train_loader = DataLoader(train_ds, batch_size=32, shuffle=True)\n",
    "val_loader = DataLoader(test_ds)\n",
    "# Loss and optimizer\n",
    "optimizer = optim.AdamW(model.parameters(), lr=1e-3, weight_decay = 1e-4)\n",
    "train_losses = []\n",
    "val_losses = []\n",
    "# Training loop\n",
    "num_epochs = 50\n",
    "best_val_loss = float('inf')\n",
    "best_val_acc = 0\n",
    "logger.save_checkpoint(\"best_model.pth\", model, optimizer, 0, best_val_loss)\n",
    "for epoch in tqdm(range(num_epochs)):\n",
    "    # --------- Train ---------\n",
    "    model.train()\n",
    "    train_loss = 0.0\n",
    "    train_count_correct = 0\n",
    "    train_label_correct = 0\n",
    "    train_total = 0\n",
    "\n",
    "    for images, labels, counts in train_loader:\n",
    "        images = images.to(device).float()\n",
    "        labels = labels.to(device).float()\n",
    "        counts = counts.to(device).long()\n",
    "        optimizer.zero_grad()\n",
    "        count_output, label_output = model(images)\n",
    "        loss = model.loss(count_output, label_output, counts, labels)\n",
    "        loss.backward()\n",
    "        optimizer.step()\n",
    "\n",
    "        train_loss += loss.item()\n",
    "        preds = torch.argmax(count_output, dim = -1)\n",
    "        label_preds = preds.unsqueeze(-1) * label_output\n",
    "        train_count_correct += (preds == counts).sum().item()\n",
    "        train_label_correct += (torch.round(label_preds).flatten() == labels.flatten()).sum().item()\n",
    "        train_total += labels.size(0)\n",
    "\n",
    "    avg_train_loss = train_loss / len(train_loader)\n",
    "    train_losses.append(avg_train_loss)\n",
    "    train_acc_count = train_count_correct / train_total\n",
    "    train_acc_label = train_label_correct / (5*train_total)\n",
    "\n",
    "    # --------- Validate ---------\n",
    "    model.eval()\n",
    "    val_loss = 0.0\n",
    "    val_correct = 0\n",
    "    val_label_correct = 0\n",
    "    val_total = 0\n",
    "\n",
    "    with torch.no_grad():\n",
    "        for images, labels, counts in val_loader:\n",
    "            images = images.to(device).float()\n",
    "            labels = labels.to(device).float()\n",
    "            counts = counts.to(device).long()#.unsqueeze(1)\n",
    "            count_output, label_output = model(images)\n",
    "            loss = model.loss(count_output, label_output, counts, labels)\n",
    "            val_loss += loss.item()\n",
    "            preds = torch.argmax(count_output, dim = -1)\n",
    "            label_preds = preds.unsqueeze(-1) * label_output\n",
    "            val_correct += (preds == counts.flatten()).sum().item()\n",
    "            val_label_correct += (torch.round(label_output).flatten() == labels.flatten()).sum().item()\n",
    "            val_total += labels.size(0)\n",
    "            \n",
    "    \n",
    "    avg_val_loss = val_loss / len(val_loader)\n",
    "    val_losses.append(avg_val_loss)\n",
    "    val_acc = val_correct / val_total\n",
    "    val_acc_label = val_label_correct / (5*val_total)\n",
    "    if val_acc > best_val_acc:\n",
    "        best_val_acc = val_acc\n",
    "        logger.save_checkpoint(\"best_model.pth\", model, optimizer, epoch, best_val_acc)\n",
    "\n",
    "    # --------- Print results ---------\n",
    "    \n",
    "    logger.log(f\"Epoch {epoch+1}/{num_epochs} \"\n",
    "          f\"Train Loss: {avg_train_loss:.2f} | Count Acc: {train_acc_count:.2f} | Label Acc: {train_acc_label:.2f}\"\n",
    "          f\"|| Val Loss: {avg_val_loss:.2f} | Count Acc: {val_acc:.2f} | Label Acc: {val_acc_label:.2f}\")\n",
    "    '''\n",
    "    logger.log(f\"Epoch {epoch+1}/{num_epochs} \"\n",
    "          f\"Train Loss: {avg_train_loss:.2f} | Count Acc: {train_acc_count:.2f}\"\n",
    "          f\"|| Val Loss: {avg_val_loss:.2f} | Count Acc: {val_acc:.2f}\")   \n",
    "    '''"
   ]
  },
  {
   "cell_type": "code",
   "execution_count": 151,
   "metadata": {
    "execution": {
     "iopub.execute_input": "2025-05-11T17:41:47.872609Z",
     "iopub.status.busy": "2025-05-11T17:41:47.872100Z",
     "iopub.status.idle": "2025-05-11T17:41:48.111641Z",
     "shell.execute_reply": "2025-05-11T17:41:48.110934Z",
     "shell.execute_reply.started": "2025-05-11T17:41:47.872589Z"
    }
   },
   "outputs": [
    {
     "data": {
      "image/png": "[encoded data removed]",
      "text/plain": [
       "<Figure size 640x480 with 1 Axes>"
      ]
     },
     "metadata": {},
     "output_type": "display_data"
    }
   ],
   "source": [
    "import matplotlib.pyplot as plt\n",
    "epochs = np.arange(30)\n",
    "plt.plot(epochs, train_losses[:30], label='Training Loss')\n",
    "val_losses = np.asarray(val_losses)\n",
    "plt.plot(epochs, val_losses[:30], label='Validation Loss')\n",
    "\n",
    "plt.title('ResNet CNN Training and Validation Loss')\n",
    "plt.xlabel('Epochs')\n",
    "plt.ylabel('Loss')\n",
    "plt.legend(loc='best')\n",
    "plt.savefig(\"/kaggle/working/Loss_plot.png\")\n",
    "plt.show()\n"
   ]
  },
  {
   "cell_type": "code",
   "execution_count": 145,
   "metadata": {
    "execution": {
     "iopub.execute_input": "2025-05-11T17:40:32.170505Z",
     "iopub.status.busy": "2025-05-11T17:40:32.169962Z",
     "iopub.status.idle": "2025-05-11T17:40:32.315277Z",
     "shell.execute_reply": "2025-05-11T17:40:32.314458Z",
     "shell.execute_reply.started": "2025-05-11T17:40:32.170481Z"
    }
   },
   "outputs": [
    {
     "name": "stderr",
     "output_type": "stream",
     "text": [
      "/tmp/ipykernel_31/2818778956.py:2: FutureWarning: You are using `torch.load` with `weights_only=False` (the current default value), which uses the default pickle module implicitly. It is possible to construct malicious pickle data which will execute arbitrary code during unpickling (See https://github.com/pytorch/pytorch/blob/main/SECURITY.md#untrusted-models for more details). In a future release, the default value for `weights_only` will be flipped to `True`. This limits the functions that could be executed during unpickling. Arbitrary objects will no longer be allowed to be loaded via this mode unless they are explicitly allowlisted by the user via `torch.serialization.add_safe_globals`. We recommend you start setting `weights_only=True` for any use case where you don't have full control of the loaded file. Please open an issue on GitHub for any issues related to this experimental feature.\n",
      "  best_model = torch.load(best_path)\n"
     ]
    }
   ],
   "source": [
    "best_path = \"/kaggle/working/182_proj_logs_cross_entropy/best_model.pth\"\n",
    "best_model = torch.load(best_path)"
   ]
  },
  {
   "cell_type": "code",
   "execution_count": 146,
   "metadata": {
    "execution": {
     "iopub.execute_input": "2025-05-11T17:40:36.060587Z",
     "iopub.status.busy": "2025-05-11T17:40:36.059924Z",
     "iopub.status.idle": "2025-05-11T17:40:36.064373Z",
     "shell.execute_reply": "2025-05-11T17:40:36.063583Z",
     "shell.execute_reply.started": "2025-05-11T17:40:36.060565Z"
    }
   },
   "outputs": [
    {
     "name": "stdout",
     "output_type": "stream",
     "text": [
      "dict_keys(['model_state_dict', 'optimizer_state_dict', 'epoch', 'best_val_loss'])\n"
     ]
    }
   ],
   "source": [
    "print(best_model.keys())"
   ]
  },
  {
   "cell_type": "code",
   "execution_count": 147,
   "metadata": {
    "execution": {
     "iopub.execute_input": "2025-05-11T17:40:37.568687Z",
     "iopub.status.busy": "2025-05-11T17:40:37.568428Z",
     "iopub.status.idle": "2025-05-11T17:40:37.573229Z",
     "shell.execute_reply": "2025-05-11T17:40:37.572672Z",
     "shell.execute_reply.started": "2025-05-11T17:40:37.568669Z"
    }
   },
   "outputs": [
    {
     "data": {
      "text/plain": [
       "0.5833333333333334"
      ]
     },
     "execution_count": 147,
     "metadata": {},
     "output_type": "execute_result"
    }
   ],
   "source": [
    "best_model[\"best_val_loss\"]"
   ]
  },
  {
   "cell_type": "code",
   "execution_count": 148,
   "metadata": {
    "execution": {
     "iopub.execute_input": "2025-05-11T17:40:39.627577Z",
     "iopub.status.busy": "2025-05-11T17:40:39.627011Z",
     "iopub.status.idle": "2025-05-11T17:40:40.180774Z",
     "shell.execute_reply": "2025-05-11T17:40:40.179993Z",
     "shell.execute_reply.started": "2025-05-11T17:40:39.627557Z"
    }
   },
   "outputs": [
    {
     "name": "stdout",
     "output_type": "stream",
     "text": [
      "0.5833333333333334\n",
      "0.75625\n"
     ]
    }
   ],
   "source": [
    "avg_val_loss = 0\n",
    "val_correct = 0\n",
    "val_total = 0\n",
    "val_label_correct = 0\n",
    "model = VehicleCounterNet().to(device)\n",
    "model.load_state_dict(best_model[\"model_state_dict\"])\n",
    "count_preds = []\n",
    "count_true = []\n",
    "dist_true = []\n",
    "dist_preds = []\n",
    "with torch.no_grad():\n",
    "    model.eval()\n",
    "    for images, labels, counts in val_loader:\n",
    "        images = images.to(device).float()\n",
    "        labels = labels.to(device).float()\n",
    "        counts = counts.to(device).long()#.unsqueeze(1)\n",
    "        count_output, label_output = model(images)\n",
    "        loss = model.loss(count_output, label_output, counts, labels)\n",
    "        preds = torch.argmax(count_output, dim = -1)\n",
    "        count_preds.extend(preds.tolist())\n",
    "        count_true.extend(counts.tolist())\n",
    "        dist_true.extend(labels.tolist())\n",
    "        label_preds = preds.unsqueeze(-1) * label_output\n",
    "        dist_preds.extend(torch.round(label_preds).tolist())\n",
    "        val_correct += (preds == counts.flatten()).sum().item()\n",
    "        val_label_correct += (torch.round(label_preds).flatten() == labels.flatten()).sum().item()\n",
    "        val_total += labels.size(1)\n",
    "\n",
    "val_acc = val_correct / len(val_loader)\n",
    "val_label_acc = val_label_correct / val_total\n",
    "print(val_acc)\n",
    "print(val_label_acc)"
   ]
  },
  {
   "cell_type": "code",
   "execution_count": 149,
   "metadata": {
    "execution": {
     "iopub.execute_input": "2025-05-11T17:40:43.382385Z",
     "iopub.status.busy": "2025-05-11T17:40:43.381743Z",
     "iopub.status.idle": "2025-05-11T17:40:43.388056Z",
     "shell.execute_reply": "2025-05-11T17:40:43.387216Z",
     "shell.execute_reply.started": "2025-05-11T17:40:43.382360Z"
    }
   },
   "outputs": [
    {
     "name": "stdout",
     "output_type": "stream",
     "text": [
      "Count Off by 1: 0.8645833333333334\n",
      "MAE: 0.8333333333333334\n"
     ]
    }
   ],
   "source": [
    "count_preds = np.asarray(count_preds)\n",
    "count_true = np.asarray(count_true)\n",
    "count_mae = np.mean(np.abs(count_preds - count_true))\n",
    "diff = count_preds - count_true\n",
    "within_1 = diff <= 1\n",
    "print(f\"Count Off by 1:\", np.mean(within_1))\n",
    "print(f\"MAE: {count_mae}\")"
   ]
  },
  {
   "cell_type": "code",
   "execution_count": 150,
   "metadata": {
    "execution": {
     "iopub.execute_input": "2025-05-11T17:40:45.507264Z",
     "iopub.status.busy": "2025-05-11T17:40:45.507023Z",
     "iopub.status.idle": "2025-05-11T17:40:45.524079Z",
     "shell.execute_reply": "2025-05-11T17:40:45.523339Z",
     "shell.execute_reply.started": "2025-05-11T17:40:45.507247Z"
    }
   },
   "outputs": [
    {
     "name": "stdout",
     "output_type": "stream",
     "text": [
      "F1: 0.7644575160946359\n"
     ]
    }
   ],
   "source": [
    "from sklearn.metrics import f1_score\n",
    "dist_preds = np.asarray(dist_preds)\n",
    "dist_true = np.asarray(dist_true)\n",
    "f1 = 0\n",
    "for i in range(dist_preds.shape[1]):\n",
    "    f1 += f1_score(dist_preds[:, i], dist_true[:, i], average = \"weighted\")\n",
    "f1 = f1/dist_preds.shape[1]\n",
    "print(f\"F1: {f1}\")"
   ]
  },
  {
   "cell_type": "code",
   "execution_count": 140,
   "metadata": {
    "execution": {
     "iopub.execute_input": "2025-05-11T17:37:55.923250Z",
     "iopub.status.busy": "2025-05-11T17:37:55.922549Z",
     "iopub.status.idle": "2025-05-11T17:37:55.927727Z",
     "shell.execute_reply": "2025-05-11T17:37:55.927207Z",
     "shell.execute_reply.started": "2025-05-11T17:37:55.923232Z"
    }
   },
   "outputs": [
    {
     "data": {
      "text/plain": [
       "array([5, 5, 5, 5, 5, 1, 5, 5, 1, 5, 5, 5, 5, 1, 1, 5, 1, 1, 5, 1, 4, 5,\n",
       "       5, 1, 1, 1, 5, 5, 5, 1, 5, 5, 5, 5, 5, 1, 5, 5, 1, 5, 1, 1, 5, 1,\n",
       "       5, 5, 5, 5, 1, 1, 1, 5, 5, 5, 1, 5, 5, 1, 1, 1, 5, 5, 5, 5, 1, 1,\n",
       "       1, 5, 1, 1, 1, 5, 5, 5, 5, 5, 1, 5, 5, 1, 1, 5, 5, 1, 1, 1, 5, 5,\n",
       "       5, 1, 5, 1, 1, 5, 5, 1])"
      ]
     },
     "execution_count": 140,
     "metadata": {},
     "output_type": "execute_result"
    }
   ],
   "source": [
    "count_preds"
   ]
  },
  {
   "cell_type": "code",
   "execution_count": 141,
   "metadata": {
    "execution": {
     "iopub.execute_input": "2025-05-11T17:37:55.928566Z",
     "iopub.status.busy": "2025-05-11T17:37:55.928394Z",
     "iopub.status.idle": "2025-05-11T17:37:56.084420Z",
     "shell.execute_reply": "2025-05-11T17:37:56.083780Z",
     "shell.execute_reply.started": "2025-05-11T17:37:55.928553Z"
    }
   },
   "outputs": [
    {
     "data": {
      "image/png": "[encoded data removed]",
      "text/plain": [
       "<Figure size 640x480 with 1 Axes>"
      ]
     },
     "metadata": {},
     "output_type": "display_data"
    }
   ],
   "source": [
    "ys = filtered_data[\"labels\"]\n",
    "ys = torch.sum(ys, dim = 0)/torch.sum(ys)\n",
    "plt.bar(range(5), ys)\n",
    "plt.xticks(range(5), [\"Bus\", \"Bike\", \"Cars\", \"Motorbikes\", \"Trucks\"])\n",
    "plt.savefig(\"class_imbalance.png\")"
   ]
  }
 ],
 "metadata": {
  "kaggle": {
   "accelerator": "none",
   "dataSources": [
    {
     "datasetId": 7383419,
     "sourceId": 11761113,
     "sourceType": "datasetVersion"
    }
   ],
   "dockerImageVersionId": 31011,
   "isGpuEnabled": false,
   "isInternetEnabled": true,
   "language": "python",
   "sourceType": "notebook"
  },
  "kernelspec": {
   "display_name": "Python 3",
   "language": "python",
   "name": "python3"
  },
  "language_info": {
   "codemirror_mode": {
    "name": "ipython",
    "version": 3
   },
   "file_extension": ".py",
   "mimetype": "text/x-python",
   "name": "python",
   "nbconvert_exporter": "python",
   "pygments_lexer": "ipython3",
   "version": "3.11.11"
  }
 },
 "nbformat": 4,
 "nbformat_minor": 4
}
