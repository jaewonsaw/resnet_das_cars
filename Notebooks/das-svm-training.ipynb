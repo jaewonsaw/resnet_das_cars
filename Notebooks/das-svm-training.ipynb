{
 "cells": [
  {
   "cell_type": "code",
   "execution_count": 3,
   "metadata": {
    "_cell_guid": "b1076dfc-b9ad-4769-8c92-a6c4dae69d19",
    "_uuid": "8f2839f25d086af736a60e9eeb907d3b93b6e0e5",
    "execution": {
     "iopub.execute_input": "2025-05-11T15:34:59.410196Z",
     "iopub.status.busy": "2025-05-11T15:34:59.409407Z",
     "iopub.status.idle": "2025-05-11T15:34:59.415097Z",
     "shell.execute_reply": "2025-05-11T15:34:59.414029Z",
     "shell.execute_reply.started": "2025-05-11T15:34:59.410169Z"
    }
   },
   "outputs": [],
   "source": [
    "import torch\n",
    "import numpy as np\n",
    "from sklearn.svm import SVR, SVC\n",
    "from sklearn.multioutput import MultiOutputRegressor\n",
    "from sklearn.datasets import make_regression\n",
    "from sklearn.model_selection import train_test_split"
   ]
  },
  {
   "cell_type": "code",
   "execution_count": 4,
   "metadata": {
    "execution": {
     "iopub.execute_input": "2025-05-11T15:34:59.416938Z",
     "iopub.status.busy": "2025-05-11T15:34:59.416689Z",
     "iopub.status.idle": "2025-05-11T15:35:09.630050Z",
     "shell.execute_reply": "2025-05-11T15:35:09.629204Z",
     "shell.execute_reply.started": "2025-05-11T15:34:59.416917Z"
    }
   },
   "outputs": [
    {
     "name": "stderr",
     "output_type": "stream",
     "text": [
      "/tmp/ipykernel_31/2404740969.py:2: FutureWarning: You are using `torch.load` with `weights_only=False` (the current default value), which uses the default pickle module implicitly. It is possible to construct malicious pickle data which will execute arbitrary code during unpickling (See https://github.com/pytorch/pytorch/blob/main/SECURITY.md#untrusted-models for more details). In a future release, the default value for `weights_only` will be flipped to `True`. This limits the functions that could be executed during unpickling. Arbitrary objects will no longer be allowed to be loaded via this mode unless they are explicitly allowlisted by the user via `torch.serialization.add_safe_globals`. We recommend you start setting `weights_only=True` for any use case where you don't have full control of the loaded file. Please open an issue on GitHub for any issues related to this experimental feature.\n",
      "  data = torch.load(\"/kaggle/input/das-data-v2/data.pt\")\n"
     ]
    }
   ],
   "source": [
    "# Create sample data: input features and vector outputs\n",
    "data = torch.load(\"/kaggle/input/das-data-v2/data.pt\")\n",
    "X = data[\"imgs\"].numpy()\n",
    "X = X.reshape(X.shape[0], -1)\n",
    "y = data[\"labels\"].numpy()\n",
    "counts = data[\"counts\"].numpy()\n",
    "#y_norm = y / np.linalg.norm(y, axis=1, keepdims=True)\n",
    "\n",
    "X_train, X_test, y_train, y_test, count_train, count_test = train_test_split(X, y, counts, test_size=0.2)\n"
   ]
  },
  {
   "cell_type": "code",
   "execution_count": 5,
   "metadata": {
    "execution": {
     "iopub.execute_input": "2025-05-11T15:35:09.631064Z",
     "iopub.status.busy": "2025-05-11T15:35:09.630840Z",
     "iopub.status.idle": "2025-05-11T15:36:23.916424Z",
     "shell.execute_reply": "2025-05-11T15:36:23.915684Z",
     "shell.execute_reply.started": "2025-05-11T15:35:09.631045Z"
    }
   },
   "outputs": [
    {
     "name": "stderr",
     "output_type": "stream",
     "text": [
      "/usr/local/lib/python3.11/dist-packages/sklearn/svm/_base.py:299: ConvergenceWarning: Solver terminated early (max_iter=100).  Consider pre-processing your data with StandardScaler or MinMaxScaler.\n",
      "  warnings.warn(\n",
      "/usr/local/lib/python3.11/dist-packages/sklearn/svm/_base.py:299: ConvergenceWarning: Solver terminated early (max_iter=100).  Consider pre-processing your data with StandardScaler or MinMaxScaler.\n",
      "  warnings.warn(\n",
      "/usr/local/lib/python3.11/dist-packages/sklearn/svm/_base.py:299: ConvergenceWarning: Solver terminated early (max_iter=100).  Consider pre-processing your data with StandardScaler or MinMaxScaler.\n",
      "  warnings.warn(\n",
      "/usr/local/lib/python3.11/dist-packages/sklearn/svm/_base.py:299: ConvergenceWarning: Solver terminated early (max_iter=100).  Consider pre-processing your data with StandardScaler or MinMaxScaler.\n",
      "  warnings.warn(\n",
      "/usr/local/lib/python3.11/dist-packages/sklearn/svm/_base.py:299: ConvergenceWarning: Solver terminated early (max_iter=100).  Consider pre-processing your data with StandardScaler or MinMaxScaler.\n",
      "  warnings.warn(\n"
     ]
    }
   ],
   "source": [
    "# Create SVR model and wrap it\n",
    "svr = SVR(kernel='rbf', max_iter = int(1e2))\n",
    "multi_output_svr = MultiOutputRegressor(svr)\n",
    "y_train_norm = y_train / np.linalg.norm(y_train, axis=1, keepdims=True)\n",
    "y_test_norm = y_test / np.linalg.norm(y_test, axis=1, keepdims=True)\n",
    "# Train\n",
    "multi_output_svr.fit(X_train, y_train_norm)\n",
    "\n",
    "# Predict\n",
    "y_pred = multi_output_svr.predict(X_test)"
   ]
  },
  {
   "cell_type": "code",
   "execution_count": 6,
   "metadata": {
    "execution": {
     "iopub.execute_input": "2025-05-11T15:36:23.918006Z",
     "iopub.status.busy": "2025-05-11T15:36:23.917286Z",
     "iopub.status.idle": "2025-05-11T15:36:23.923806Z",
     "shell.execute_reply": "2025-05-11T15:36:23.923126Z",
     "shell.execute_reply.started": "2025-05-11T15:36:23.917978Z"
    }
   },
   "outputs": [
    {
     "name": "stdout",
     "output_type": "stream",
     "text": [
      "0.03854320029436161\n"
     ]
    }
   ],
   "source": [
    "mse = np.mean((y_pred - y_test_norm)**2)\n",
    "print(mse)"
   ]
  },
  {
   "cell_type": "code",
   "execution_count": 7,
   "metadata": {
    "execution": {
     "iopub.execute_input": "2025-05-11T15:36:23.925539Z",
     "iopub.status.busy": "2025-05-11T15:36:23.925278Z",
     "iopub.status.idle": "2025-05-11T15:38:52.331968Z",
     "shell.execute_reply": "2025-05-11T15:38:52.331272Z",
     "shell.execute_reply.started": "2025-05-11T15:36:23.925517Z"
    }
   },
   "outputs": [],
   "source": [
    "#Create count svc\n",
    "svc = SVC(kernel='rbf', max_iter = int(1e3), C = 50)\n",
    "svc.fit(X_train, count_train)\n",
    "\n",
    "# Predict\n",
    "count_pred = svc.predict(X_test)"
   ]
  },
  {
   "cell_type": "code",
   "execution_count": 8,
   "metadata": {
    "execution": {
     "iopub.execute_input": "2025-05-11T15:38:52.333532Z",
     "iopub.status.busy": "2025-05-11T15:38:52.333161Z",
     "iopub.status.idle": "2025-05-11T15:38:52.340227Z",
     "shell.execute_reply": "2025-05-11T15:38:52.339592Z",
     "shell.execute_reply.started": "2025-05-11T15:38:52.333504Z"
    }
   },
   "outputs": [
    {
     "name": "stdout",
     "output_type": "stream",
     "text": [
      "Count Accuracy: 0.37992831541218636, Count MAE: 1.96415770609319\n",
      "Count Off by 1: 0.8494623655913979\n"
     ]
    }
   ],
   "source": [
    "count_acc = np.mean(count_pred == count_test)\n",
    "count_mae = np.mean(np.abs(count_pred - count_test))\n",
    "print(f\"Count Accuracy: {count_acc}, Count MAE: {count_mae}\")\n",
    "diff = count_pred - count_test\n",
    "within_1 = diff <= 1\n",
    "print(f\"Count Off by 1:\", np.mean(within_1))"
   ]
  },
  {
   "cell_type": "code",
   "execution_count": 9,
   "metadata": {
    "execution": {
     "iopub.execute_input": "2025-05-11T15:38:52.343792Z",
     "iopub.status.busy": "2025-05-11T15:38:52.340821Z",
     "iopub.status.idle": "2025-05-11T15:38:53.770565Z",
     "shell.execute_reply": "2025-05-11T15:38:53.769824Z",
     "shell.execute_reply.started": "2025-05-11T15:38:52.343764Z"
    }
   },
   "outputs": [
    {
     "data": {
      "text/plain": [
       "['count_svc_model.pkl']"
      ]
     },
     "execution_count": 9,
     "metadata": {},
     "output_type": "execute_result"
    }
   ],
   "source": [
    "import joblib\n",
    "joblib.dump(multi_output_svr, 'distribution_svr_model.pkl')\n",
    "joblib.dump(svc, 'count_svc_model.pkl')"
   ]
  },
  {
   "cell_type": "code",
   "execution_count": 10,
   "metadata": {
    "execution": {
     "iopub.execute_input": "2025-05-11T15:38:53.771518Z",
     "iopub.status.busy": "2025-05-11T15:38:53.771305Z",
     "iopub.status.idle": "2025-05-11T15:38:53.778001Z",
     "shell.execute_reply": "2025-05-11T15:38:53.777231Z",
     "shell.execute_reply.started": "2025-05-11T15:38:53.771501Z"
    }
   },
   "outputs": [
    {
     "name": "stdout",
     "output_type": "stream",
     "text": [
      "0.5407706093189965\n"
     ]
    }
   ],
   "source": [
    "distribution_pred = np.round(y_pred * count_pred[:, np.newaxis])\n",
    "print(np.mean(distribution_pred == y_test))"
   ]
  },
  {
   "cell_type": "code",
   "execution_count": 15,
   "metadata": {
    "execution": {
     "iopub.execute_input": "2025-05-11T16:27:06.214524Z",
     "iopub.status.busy": "2025-05-11T16:27:06.213733Z",
     "iopub.status.idle": "2025-05-11T16:27:06.243251Z",
     "shell.execute_reply": "2025-05-11T16:27:06.242351Z",
     "shell.execute_reply.started": "2025-05-11T16:27:06.214497Z"
    }
   },
   "outputs": [
    {
     "name": "stdout",
     "output_type": "stream",
     "text": [
      "F1: 0.4737655682131827\n"
     ]
    }
   ],
   "source": [
    "from sklearn.metrics import f1_score\n",
    "f1 = 0\n",
    "for i in range(distribution_pred.shape[1]):\n",
    "    f1 += f1_score(distribution_pred[:, i], y_test[:, i], average = \"weighted\")\n",
    "f1 = f1/distribution_pred.shape[1]\n",
    "print(f\"F1: {f1}\")"
   ]
  }
 ],
 "metadata": {
  "kaggle": {
   "accelerator": "none",
   "dataSources": [
    {
     "datasetId": 7383419,
     "sourceId": 11761113,
     "sourceType": "datasetVersion"
    }
   ],
   "dockerImageVersionId": 31012,
   "isGpuEnabled": false,
   "isInternetEnabled": true,
   "language": "python",
   "sourceType": "notebook"
  },
  "kernelspec": {
   "display_name": "Python 3",
   "language": "python",
   "name": "python3"
  },
  "language_info": {
   "codemirror_mode": {
    "name": "ipython",
    "version": 3
   },
   "file_extension": ".py",
   "mimetype": "text/x-python",
   "name": "python",
   "nbconvert_exporter": "python",
   "pygments_lexer": "ipython3",
   "version": "3.11.11"
  }
 },
 "nbformat": 4,
 "nbformat_minor": 4
}
