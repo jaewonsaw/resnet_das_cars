{
 "cells": [
  {
   "cell_type": "code",
   "execution_count": 1,
   "id": "990e4206",
   "metadata": {},
   "outputs": [],
   "source": [
    "import numpy as np\n",
    "import matplotlib.pyplot as plt\n",
    "import os\n",
    "import cv2\n",
    "from sklearn.cluster import DBSCAN\n",
    "from tqdm import tqdm"
   ]
  },
  {
   "cell_type": "code",
   "execution_count": 2,
   "id": "9fdfe89f",
   "metadata": {},
   "outputs": [
    {
     "name": "stderr",
     "output_type": "stream",
     "text": [
      "100%|██████████████████████████████████████| 2334/2334 [00:02<00:00, 816.85it/s]\n"
     ]
    },
    {
     "name": "stdout",
     "output_type": "stream",
     "text": [
      "(2334, 585, 153)\n",
      "(585, 153)\n",
      "(585, 153)\n"
     ]
    }
   ],
   "source": [
    "path = \"DAS_data/\"\n",
    "images = []\n",
    "target_shape = (585, 153)\n",
    "for file in tqdm(os.listdir(path)):\n",
    "    img = np.load(os.path.join(path, file))\n",
    "    h, w = img.shape[:2]\n",
    "    target_h, target_w = target_shape\n",
    "\n",
    "    crop_h = min(h, target_h)\n",
    "    crop_w = min(w, target_w)\n",
    "    img_cropped = img[:crop_h, :crop_w]\n",
    "    images.append(img_cropped)\n",
    "\n",
    "stacked = np.stack(images, axis=0)\n",
    "print(stacked.shape)\n",
    "mu = stacked.mean(axis = 0)\n",
    "print(mu.shape)\n",
    "var = stacked.var(axis = 0)\n",
    "print(var.shape)\n"
   ]
  },
  {
   "cell_type": "code",
   "execution_count": 3,
   "id": "2faef9c3",
   "metadata": {},
   "outputs": [],
   "source": [
    "def normalize(a):\n",
    "    a = (a - np.min(a))/(np.max(a) - np.min(a))\n",
    "    return a\n",
    "\n",
    "def detected_lines(path):\n",
    "    orig_img = np.load(path).T\n",
    "    img = normalize(orig_img)\n",
    "    img[img<0.5] = 0\n",
    "    img = (255*np.stack([img]*3, axis=-1)).astype(np.uint8)\n",
    "    # Load and process image\n",
    "    gray = cv2.cvtColor(img, cv2.COLOR_BGR2GRAY)\n",
    "    edges = cv2.Canny(gray, 50, 150)\n",
    "\n",
    "    # Get (x, y) coordinates of all edge pixels\n",
    "    points = np.column_stack(np.where(edges > 0))  # (y, x)\n",
    "    points = points[:, ::-1]  # convert to (x, y)\n",
    "\n",
    "    # Use DBSCAN to cluster edge points\n",
    "    db = DBSCAN(eps=10, min_samples=20).fit(points)\n",
    "    labels = db.labels_\n",
    "\n",
    "    # For visualization\n",
    "    result = img.copy()\n",
    "    unique_labels = set(labels)\n",
    "    lines = []\n",
    "    line_intensities = []\n",
    "    for label in unique_labels:\n",
    "        if label == -1:\n",
    "            continue  # noise\n",
    "\n",
    "        cluster_points = points[labels == label]\n",
    "        x = cluster_points[:, 0]\n",
    "        y = cluster_points[:, 1]\n",
    "        \n",
    "        if len(x) < 10:\n",
    "            continue\n",
    "\n",
    "        # Fit least squares line: y = mx + b\n",
    "        A = np.vstack([x, np.ones(len(x))]).T\n",
    "        m, b = np.linalg.lstsq(A, y, rcond=None)[0]\n",
    "\n",
    "        # Filter only diagonal-ish lines\n",
    "        if abs(m) < 0.2:\n",
    "            continue\n",
    "\n",
    "        # Start/end points for drawing\n",
    "        x_start, x_end = np.min(x), np.max(x)\n",
    "        y_start = int(m * x_start + b)\n",
    "        y_end = int(m * x_end + b)\n",
    "\n",
    "        cv2.line(result, (x_start, y_start), (x_end, y_end), (0, 0, 255), 2)\n",
    "        lines.append([m, x_start, y_start, x_end, y_end])\n",
    "        intensity = normalize(orig_img.T)[cluster_points]\n",
    "        avg = intensity.mean()\n",
    "        var = intensity.var()\n",
    "        line_intensities.append([avg, var])\n",
    "    return lines, line_intensities"
   ]
  },
  {
   "cell_type": "code",
   "execution_count": 4,
   "id": "d7bde5fc",
   "metadata": {},
   "outputs": [
    {
     "name": "stderr",
     "output_type": "stream",
     "text": [
      "100%|███████████████████████████████████████| 2334/2334 [04:26<00:00,  8.75it/s]\n"
     ]
    }
   ],
   "source": [
    "lines = []\n",
    "stren = []\n",
    "for file in tqdm(os.listdir(path)):\n",
    "    file = os.path.join(path, file)\n",
    "    info, intensities = detected_lines(file)\n",
    "    lines.extend(info)\n",
    "    stren.extend(intensities)"
   ]
  },
  {
   "cell_type": "code",
   "execution_count": 5,
   "id": "3a7fadef",
   "metadata": {},
   "outputs": [],
   "source": [
    "stren = np.asarray(stren)"
   ]
  },
  {
   "cell_type": "code",
   "execution_count": 6,
   "id": "ada661d7",
   "metadata": {},
   "outputs": [
    {
     "data": {
      "text/plain": [
       "(3015, 2)"
      ]
     },
     "execution_count": 6,
     "metadata": {},
     "output_type": "execute_result"
    }
   ],
   "source": [
    "stren.shape"
   ]
  },
  {
   "cell_type": "code",
   "execution_count": 7,
   "id": "8db02055",
   "metadata": {},
   "outputs": [],
   "source": [
    "flat_intensities = []\n",
    "for i in stren:\n",
    "    flat_intensities.extend(i)"
   ]
  },
  {
   "cell_type": "code",
   "execution_count": 8,
   "id": "38591760",
   "metadata": {},
   "outputs": [
    {
     "name": "stdout",
     "output_type": "stream",
     "text": [
      "0.2737120983923772 0.007496117992058121\n"
     ]
    }
   ],
   "source": [
    "avgs = stren[:, 0]\n",
    "v = stren[:, 1]\n",
    "intensity_avg = np.mean(avgs)\n",
    "intensity_var = np.mean(v)\n",
    "print(intensity_avg, intensity_var)"
   ]
  },
  {
   "cell_type": "code",
   "execution_count": 9,
   "id": "188740ce",
   "metadata": {},
   "outputs": [],
   "source": [
    "def get_thick_line_pixels(point1: tuple, point2: tuple, thickness: int = 1):\n",
    "    \"\"\"\n",
    "    Returns a list of (x, y) pixel coordinates that form a line of given thickness\n",
    "    between point1 and point2.\n",
    "\n",
    "    thickness: radius around the ideal line in pixels.\n",
    "    \"\"\"\n",
    "    line_pixels = get_line_pixels(point1, point2)\n",
    "    thick_pixels = set()\n",
    "\n",
    "    for (x, y) in line_pixels:\n",
    "        # Create a square of size (2*thickness + 1) around each pixel\n",
    "        for dx in range(-thickness, thickness + 1):\n",
    "            for dy in range(-thickness, thickness + 1):\n",
    "                thick_pixels.add((x + dx, y + dy))\n",
    "\n",
    "    return list(thick_pixels)\n",
    "\n",
    "def get_line_pixels(start, end):\n",
    "    # Setup initial conditions\n",
    "    x1, y1 = start\n",
    "    x2, y2 = end\n",
    "    x1 = int(x1)\n",
    "    x2 = int(x2)\n",
    "    y1 = int(y1)\n",
    "    y2 = int(y2)\n",
    "    dx = x2 - x1\n",
    "    dy = y2 - y1\n",
    "    # Determine how steep the line is\n",
    "    is_steep = abs(dy) > abs(dx)\n",
    "\n",
    "    # Rotate line\n",
    "    if is_steep:\n",
    "        x1, y1 = y1, x1\n",
    "        x2, y2 = y2, x2\n",
    "\n",
    "    # Swap start and end points if necessary and store swap state\n",
    "    swapped = False\n",
    "    if x1 > x2:\n",
    "        x1, x2 = x2, x1\n",
    "        y1, y2 = y2, y1\n",
    "        swapped = True\n",
    "\n",
    "    # Recalculate differentials\n",
    "    dx = x2 - x1\n",
    "    dy = y2 - y1\n",
    "\n",
    "    # Calculate error\n",
    "    error = dx // 2\n",
    "    ystep = 1 if y1 < y2 else -1\n",
    "\n",
    "    # Iterate over bounding box generating points between start and end\n",
    "    y = y1\n",
    "    points = []\n",
    "    for x in range(x1, x2 + 1):\n",
    "        coord = (y, x) if is_steep else (x, y)\n",
    "        points.append(coord)\n",
    "        error -= abs(dy)\n",
    "        if error < 0:\n",
    "            y += ystep\n",
    "            error += dx\n",
    "\n",
    "    # Reverse the list if the coordinates were swapped\n",
    "    if swapped:\n",
    "        points.reverse()\n",
    "    return points"
   ]
  },
  {
   "cell_type": "code",
   "execution_count": 10,
   "id": "449859a1",
   "metadata": {},
   "outputs": [
    {
     "name": "stdout",
     "output_type": "stream",
     "text": [
      "[-0.45856354 -0.56892363 -0.59948911 ... -0.64598925  0.31283898\n",
      "  0.55860318]\n",
      "0.5253884980662408\n",
      "0.12718836844322423\n",
      "0.24344941956882254\n"
     ]
    }
   ],
   "source": [
    "lines = np.asarray(lines)\n",
    "slopes = lines[:, 0]\n",
    "print(slopes)\n",
    "avg_slope = np.abs(slopes).mean()\n",
    "print(avg_slope)\n",
    "var_slope = np.abs(slopes).var()\n",
    "print(var_slope)\n",
    "slope_pos_prob = np.mean(slopes>0)\n",
    "print(slope_pos_prob)"
   ]
  },
  {
   "cell_type": "code",
   "execution_count": 11,
   "id": "a8702a33",
   "metadata": {},
   "outputs": [],
   "source": [
    "import numpy as np\n",
    "import matplotlib.pyplot as plt\n",
    "\n",
    "def plot_line_on_image(image: np.ndarray, point1: tuple, point2: tuple):\n",
    "    plt.imshow(image)\n",
    "    plt.plot([point1[0], point2[0]], [point1[1], point2[1]], 'r-', linewidth=2)\n",
    "    plt.axis('off')  # Optional: hides axis\n",
    "    plt.show()"
   ]
  },
  {
   "cell_type": "code",
   "execution_count": 58,
   "id": "acb1c718",
   "metadata": {},
   "outputs": [],
   "source": [
    "def generate_line(syn_img, start_x, start_y, line_x_end, line_y_end, thickness = 3):\n",
    "    line_px = get_thick_line_pixels((start_x, start_y), (line_x_end, line_y_end), thickness = thickness)\n",
    "    line_px = np.asarray(line_px)\n",
    "    drop_prob1 = 0\n",
    "    drop_prob2 = 0\n",
    "    length = 0\n",
    "    for (x, y) in line_px:\n",
    "        if x < 585 and y < 150:\n",
    "            if np.random.uniform() > drop_prob2:\n",
    "                syn_img[y, x] = np.random.normal(intensity_avg + 0.9*np.mean(syn_img), intensity_var)\n",
    "                length += 1"
   ]
  },
  {
   "cell_type": "code",
   "execution_count": 61,
   "id": "5cba9c62",
   "metadata": {},
   "outputs": [],
   "source": [
    "def generate_car():\n",
    "    syn_img = np.random.randn(*target_shape)\n",
    "    syn_img = syn_img * np.sqrt(var) + mu\n",
    "    syn_img = normalize(syn_img.T)\n",
    "    plt.imshow(syn_img)\n",
    "    slope = -np.random.randn(1)[0] * var_slope - avg_slope\n",
    "    print(slope)\n",
    "    start_x = np.random.randint(0, target_shape[0]-100)\n",
    "    start_y = np.random.randint(0, target_shape[1])\n",
    "    print(start_x, start_y) \n",
    "    img_x_end = target_shape[0]\n",
    "    img_y_end = 0\n",
    "    line_y_end = start_y + slope*(img_x_end - start_x)\n",
    "    line_x_end = start_x + (img_y_end - start_y)/slope\n",
    "    if line_y_end < 0:\n",
    "        line_y_end = 0\n",
    "    elif line_x_end > img_x_end:\n",
    "        line_x_end = img_x_end\n",
    "    generate_line(syn_img, start_x, start_y, img_x_end, img_y_end)\n",
    "    plt.imshow(np.flipud(normalize(syn_img)))"
   ]
  },
  {
   "cell_type": "code",
   "execution_count": 74,
   "id": "558878e2",
   "metadata": {},
   "outputs": [
    {
     "name": "stdout",
     "output_type": "stream",
     "text": [
      "-0.31905742658341174\n",
      "411 31\n"
     ]
    },
    {
     "data": {
      "image/png": "[encoded data removed]",
      "text/plain": [
       "<Figure size 432x288 with 1 Axes>"
      ]
     },
     "metadata": {
      "needs_background": "light"
     },
     "output_type": "display_data"
    }
   ],
   "source": [
    "generate_car()"
   ]
  },
  {
   "cell_type": "code",
   "execution_count": null,
   "id": "ad5d7f75",
   "metadata": {},
   "outputs": [],
   "source": []
  }
 ],
 "metadata": {
  "kernelspec": {
   "display_name": "Python 3 (ipykernel)",
   "language": "python",
   "name": "python3"
  },
  "language_info": {
   "codemirror_mode": {
    "name": "ipython",
    "version": 3
   },
   "file_extension": ".py",
   "mimetype": "text/x-python",
   "name": "python",
   "nbconvert_exporter": "python",
   "pygments_lexer": "ipython3",
   "version": "3.9.7"
  }
 },
 "nbformat": 4,
 "nbformat_minor": 5
}
